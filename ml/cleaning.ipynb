{
 "cells": [
  {
   "cell_type": "markdown",
   "metadata": {},
   "source": [
    "# Nettoyage du dataset SBAnational"
   ]
  },
  {
   "cell_type": "markdown",
   "metadata": {},
   "source": [
    "## Import librairies et datasets"
   ]
  },
  {
   "cell_type": "code",
   "execution_count": 59,
   "metadata": {},
   "outputs": [],
   "source": [
    "import pandas as pd\n",
    "import numpy as np\n",
    "import pickle"
   ]
  },
  {
   "cell_type": "code",
   "execution_count": 60,
   "metadata": {},
   "outputs": [
    {
     "name": "stderr",
     "output_type": "stream",
     "text": [
      "/tmp/ipykernel_19522/972199569.py:1: DtypeWarning: Columns (9) have mixed types. Specify dtype option on import or set low_memory=False.\n",
      "  data = pd.read_csv(\"datasets/SBAnational.csv\")\n"
     ]
    }
   ],
   "source": [
    "data = pd.read_csv(\"datasets/SBAnational.csv\")"
   ]
  },
  {
   "cell_type": "markdown",
   "metadata": {},
   "source": [
    "## Suppression des colonnes"
   ]
  },
  {
   "cell_type": "markdown",
   "metadata": {},
   "source": [
    "### Target leaking"
   ]
  },
  {
   "cell_type": "code",
   "execution_count": 61,
   "metadata": {},
   "outputs": [],
   "source": [
    "col_to_drop = [\"LoanNr_ChkDgt\", \"ChgOffDate\", \"DisbursementDate\", \"DisbursementGross\", \"BalanceGross\", \"ChgOffPrinGr\"]\n",
    "data = data.drop(col_to_drop, axis=1)"
   ]
  },
  {
   "cell_type": "code",
   "execution_count": 62,
   "metadata": {},
   "outputs": [
    {
     "data": {
      "text/html": [
       "<div>\n",
       "<style scoped>\n",
       "    .dataframe tbody tr th:only-of-type {\n",
       "        vertical-align: middle;\n",
       "    }\n",
       "\n",
       "    .dataframe tbody tr th {\n",
       "        vertical-align: top;\n",
       "    }\n",
       "\n",
       "    .dataframe thead th {\n",
       "        text-align: right;\n",
       "    }\n",
       "</style>\n",
       "<table border=\"1\" class=\"dataframe\">\n",
       "  <thead>\n",
       "    <tr style=\"text-align: right;\">\n",
       "      <th></th>\n",
       "      <th>Name</th>\n",
       "      <th>City</th>\n",
       "      <th>State</th>\n",
       "      <th>Zip</th>\n",
       "      <th>Bank</th>\n",
       "      <th>BankState</th>\n",
       "      <th>NAICS</th>\n",
       "      <th>ApprovalDate</th>\n",
       "      <th>ApprovalFY</th>\n",
       "      <th>Term</th>\n",
       "      <th>...</th>\n",
       "      <th>NewExist</th>\n",
       "      <th>CreateJob</th>\n",
       "      <th>RetainedJob</th>\n",
       "      <th>FranchiseCode</th>\n",
       "      <th>UrbanRural</th>\n",
       "      <th>RevLineCr</th>\n",
       "      <th>LowDoc</th>\n",
       "      <th>MIS_Status</th>\n",
       "      <th>GrAppv</th>\n",
       "      <th>SBA_Appv</th>\n",
       "    </tr>\n",
       "  </thead>\n",
       "  <tbody>\n",
       "    <tr>\n",
       "      <th>0</th>\n",
       "      <td>ABC HOBBYCRAFT</td>\n",
       "      <td>EVANSVILLE</td>\n",
       "      <td>IN</td>\n",
       "      <td>47711</td>\n",
       "      <td>FIFTH THIRD BANK</td>\n",
       "      <td>OH</td>\n",
       "      <td>451120</td>\n",
       "      <td>28-Feb-97</td>\n",
       "      <td>1997</td>\n",
       "      <td>84</td>\n",
       "      <td>...</td>\n",
       "      <td>2.0</td>\n",
       "      <td>0</td>\n",
       "      <td>0</td>\n",
       "      <td>1</td>\n",
       "      <td>0</td>\n",
       "      <td>N</td>\n",
       "      <td>Y</td>\n",
       "      <td>P I F</td>\n",
       "      <td>$60,000.00</td>\n",
       "      <td>$48,000.00</td>\n",
       "    </tr>\n",
       "    <tr>\n",
       "      <th>1</th>\n",
       "      <td>LANDMARK BAR &amp; GRILLE (THE)</td>\n",
       "      <td>NEW PARIS</td>\n",
       "      <td>IN</td>\n",
       "      <td>46526</td>\n",
       "      <td>1ST SOURCE BANK</td>\n",
       "      <td>IN</td>\n",
       "      <td>722410</td>\n",
       "      <td>28-Feb-97</td>\n",
       "      <td>1997</td>\n",
       "      <td>60</td>\n",
       "      <td>...</td>\n",
       "      <td>2.0</td>\n",
       "      <td>0</td>\n",
       "      <td>0</td>\n",
       "      <td>1</td>\n",
       "      <td>0</td>\n",
       "      <td>N</td>\n",
       "      <td>Y</td>\n",
       "      <td>P I F</td>\n",
       "      <td>$40,000.00</td>\n",
       "      <td>$32,000.00</td>\n",
       "    </tr>\n",
       "    <tr>\n",
       "      <th>2</th>\n",
       "      <td>WHITLOCK DDS, TODD M.</td>\n",
       "      <td>BLOOMINGTON</td>\n",
       "      <td>IN</td>\n",
       "      <td>47401</td>\n",
       "      <td>GRANT COUNTY STATE BANK</td>\n",
       "      <td>IN</td>\n",
       "      <td>621210</td>\n",
       "      <td>28-Feb-97</td>\n",
       "      <td>1997</td>\n",
       "      <td>180</td>\n",
       "      <td>...</td>\n",
       "      <td>1.0</td>\n",
       "      <td>0</td>\n",
       "      <td>0</td>\n",
       "      <td>1</td>\n",
       "      <td>0</td>\n",
       "      <td>N</td>\n",
       "      <td>N</td>\n",
       "      <td>P I F</td>\n",
       "      <td>$287,000.00</td>\n",
       "      <td>$215,250.00</td>\n",
       "    </tr>\n",
       "    <tr>\n",
       "      <th>3</th>\n",
       "      <td>BIG BUCKS PAWN &amp; JEWELRY, LLC</td>\n",
       "      <td>BROKEN ARROW</td>\n",
       "      <td>OK</td>\n",
       "      <td>74012</td>\n",
       "      <td>1ST NATL BK &amp; TR CO OF BROKEN</td>\n",
       "      <td>OK</td>\n",
       "      <td>0</td>\n",
       "      <td>28-Feb-97</td>\n",
       "      <td>1997</td>\n",
       "      <td>60</td>\n",
       "      <td>...</td>\n",
       "      <td>1.0</td>\n",
       "      <td>0</td>\n",
       "      <td>0</td>\n",
       "      <td>1</td>\n",
       "      <td>0</td>\n",
       "      <td>N</td>\n",
       "      <td>Y</td>\n",
       "      <td>P I F</td>\n",
       "      <td>$35,000.00</td>\n",
       "      <td>$28,000.00</td>\n",
       "    </tr>\n",
       "    <tr>\n",
       "      <th>4</th>\n",
       "      <td>ANASTASIA CONFECTIONS, INC.</td>\n",
       "      <td>ORLANDO</td>\n",
       "      <td>FL</td>\n",
       "      <td>32801</td>\n",
       "      <td>FLORIDA BUS. DEVEL CORP</td>\n",
       "      <td>FL</td>\n",
       "      <td>0</td>\n",
       "      <td>28-Feb-97</td>\n",
       "      <td>1997</td>\n",
       "      <td>240</td>\n",
       "      <td>...</td>\n",
       "      <td>1.0</td>\n",
       "      <td>7</td>\n",
       "      <td>7</td>\n",
       "      <td>1</td>\n",
       "      <td>0</td>\n",
       "      <td>N</td>\n",
       "      <td>N</td>\n",
       "      <td>P I F</td>\n",
       "      <td>$229,000.00</td>\n",
       "      <td>$229,000.00</td>\n",
       "    </tr>\n",
       "  </tbody>\n",
       "</table>\n",
       "<p>5 rows × 21 columns</p>\n",
       "</div>"
      ],
      "text/plain": [
       "                            Name          City State    Zip  \\\n",
       "0                 ABC HOBBYCRAFT    EVANSVILLE    IN  47711   \n",
       "1    LANDMARK BAR & GRILLE (THE)     NEW PARIS    IN  46526   \n",
       "2          WHITLOCK DDS, TODD M.   BLOOMINGTON    IN  47401   \n",
       "3  BIG BUCKS PAWN & JEWELRY, LLC  BROKEN ARROW    OK  74012   \n",
       "4    ANASTASIA CONFECTIONS, INC.       ORLANDO    FL  32801   \n",
       "\n",
       "                            Bank BankState   NAICS ApprovalDate ApprovalFY  \\\n",
       "0               FIFTH THIRD BANK        OH  451120    28-Feb-97       1997   \n",
       "1                1ST SOURCE BANK        IN  722410    28-Feb-97       1997   \n",
       "2        GRANT COUNTY STATE BANK        IN  621210    28-Feb-97       1997   \n",
       "3  1ST NATL BK & TR CO OF BROKEN        OK       0    28-Feb-97       1997   \n",
       "4        FLORIDA BUS. DEVEL CORP        FL       0    28-Feb-97       1997   \n",
       "\n",
       "   Term  ...  NewExist  CreateJob  RetainedJob  FranchiseCode  UrbanRural  \\\n",
       "0    84  ...       2.0          0            0              1           0   \n",
       "1    60  ...       2.0          0            0              1           0   \n",
       "2   180  ...       1.0          0            0              1           0   \n",
       "3    60  ...       1.0          0            0              1           0   \n",
       "4   240  ...       1.0          7            7              1           0   \n",
       "\n",
       "   RevLineCr LowDoc MIS_Status        GrAppv      SBA_Appv  \n",
       "0          N      Y      P I F   $60,000.00    $48,000.00   \n",
       "1          N      Y      P I F   $40,000.00    $32,000.00   \n",
       "2          N      N      P I F  $287,000.00   $215,250.00   \n",
       "3          N      Y      P I F   $35,000.00    $28,000.00   \n",
       "4          N      N      P I F  $229,000.00   $229,000.00   \n",
       "\n",
       "[5 rows x 21 columns]"
      ]
     },
     "metadata": {},
     "output_type": "display_data"
    }
   ],
   "source": [
    "display(data.head())"
   ]
  },
  {
   "cell_type": "markdown",
   "metadata": {},
   "source": [
    "## Vérification valeurs manquantes"
   ]
  },
  {
   "cell_type": "code",
   "execution_count": 63,
   "metadata": {},
   "outputs": [
    {
     "data": {
      "text/plain": [
       "Name               14\n",
       "City               30\n",
       "State              14\n",
       "Zip                 0\n",
       "Bank             1559\n",
       "BankState        1566\n",
       "NAICS               0\n",
       "ApprovalDate        0\n",
       "ApprovalFY          0\n",
       "Term                0\n",
       "NoEmp               0\n",
       "NewExist          136\n",
       "CreateJob           0\n",
       "RetainedJob         0\n",
       "FranchiseCode       0\n",
       "UrbanRural          0\n",
       "RevLineCr        4528\n",
       "LowDoc           2582\n",
       "MIS_Status       1997\n",
       "GrAppv              0\n",
       "SBA_Appv            0\n",
       "dtype: int64"
      ]
     },
     "metadata": {},
     "output_type": "display_data"
    }
   ],
   "source": [
    "display(data.isnull().sum())"
   ]
  },
  {
   "cell_type": "markdown",
   "metadata": {},
   "source": [
    "### Target : MIS_Status"
   ]
  },
  {
   "cell_type": "code",
   "execution_count": 64,
   "metadata": {},
   "outputs": [],
   "source": [
    "data = data.dropna(subset=[\"MIS_Status\"])"
   ]
  },
  {
   "cell_type": "markdown",
   "metadata": {},
   "source": [
    "On retire les observations pour lesquelles la target est manquante."
   ]
  },
  {
   "cell_type": "markdown",
   "metadata": {},
   "source": [
    "### Features"
   ]
  },
  {
   "cell_type": "code",
   "execution_count": 65,
   "metadata": {},
   "outputs": [
    {
     "name": "stdout",
     "output_type": "stream",
     "text": [
      "Valeurs manquantes sur le subset Name\n"
     ]
    },
    {
     "data": {
      "text/plain": [
       "Name             14\n",
       "City              0\n",
       "State             0\n",
       "Zip               0\n",
       "Bank              0\n",
       "BankState         0\n",
       "NAICS             0\n",
       "ApprovalDate      0\n",
       "ApprovalFY        0\n",
       "Term              0\n",
       "NoEmp             0\n",
       "NewExist          0\n",
       "CreateJob         0\n",
       "RetainedJob       0\n",
       "FranchiseCode     0\n",
       "UrbanRural        0\n",
       "RevLineCr         0\n",
       "LowDoc            0\n",
       "MIS_Status        0\n",
       "GrAppv            0\n",
       "SBA_Appv          0\n",
       "dtype: int64"
      ]
     },
     "metadata": {},
     "output_type": "display_data"
    },
    {
     "name": "stdout",
     "output_type": "stream",
     "text": [
      "Valeurs manquantes sur le subset City\n"
     ]
    },
    {
     "data": {
      "text/plain": [
       "Name              0\n",
       "City             30\n",
       "State             0\n",
       "Zip               0\n",
       "Bank              2\n",
       "BankState         2\n",
       "NAICS             0\n",
       "ApprovalDate      0\n",
       "ApprovalFY        0\n",
       "Term              0\n",
       "NoEmp             0\n",
       "NewExist          0\n",
       "CreateJob         0\n",
       "RetainedJob       0\n",
       "FranchiseCode     0\n",
       "UrbanRural        0\n",
       "RevLineCr         0\n",
       "LowDoc            0\n",
       "MIS_Status        0\n",
       "GrAppv            0\n",
       "SBA_Appv          0\n",
       "dtype: int64"
      ]
     },
     "metadata": {},
     "output_type": "display_data"
    },
    {
     "name": "stdout",
     "output_type": "stream",
     "text": [
      "Valeurs manquantes sur le subset State\n"
     ]
    },
    {
     "data": {
      "text/plain": [
       "Name              0\n",
       "City              0\n",
       "State            13\n",
       "Zip               0\n",
       "Bank              0\n",
       "BankState         0\n",
       "NAICS             0\n",
       "ApprovalDate      0\n",
       "ApprovalFY        0\n",
       "Term              0\n",
       "NoEmp             0\n",
       "NewExist          0\n",
       "CreateJob         0\n",
       "RetainedJob       0\n",
       "FranchiseCode     0\n",
       "UrbanRural        0\n",
       "RevLineCr         0\n",
       "LowDoc            0\n",
       "MIS_Status        0\n",
       "GrAppv            0\n",
       "SBA_Appv          0\n",
       "dtype: int64"
      ]
     },
     "metadata": {},
     "output_type": "display_data"
    },
    {
     "name": "stdout",
     "output_type": "stream",
     "text": [
      "Valeurs manquantes sur le subset Bank\n"
     ]
    },
    {
     "data": {
      "text/plain": [
       "Name                0\n",
       "City                2\n",
       "State               0\n",
       "Zip                 0\n",
       "Bank             1506\n",
       "BankState        1506\n",
       "NAICS               0\n",
       "ApprovalDate        0\n",
       "ApprovalFY          0\n",
       "Term                0\n",
       "NoEmp               0\n",
       "NewExist            0\n",
       "CreateJob           0\n",
       "RetainedJob         0\n",
       "FranchiseCode       0\n",
       "UrbanRural          0\n",
       "RevLineCr           9\n",
       "LowDoc              0\n",
       "MIS_Status          0\n",
       "GrAppv              0\n",
       "SBA_Appv            0\n",
       "dtype: int64"
      ]
     },
     "metadata": {},
     "output_type": "display_data"
    },
    {
     "name": "stdout",
     "output_type": "stream",
     "text": [
      "Valeurs manquantes sur le subset BankState\n"
     ]
    },
    {
     "data": {
      "text/plain": [
       "Name                0\n",
       "City                2\n",
       "State               0\n",
       "Zip                 0\n",
       "Bank             1506\n",
       "BankState        1513\n",
       "NAICS               0\n",
       "ApprovalDate        0\n",
       "ApprovalFY          0\n",
       "Term                0\n",
       "NoEmp               0\n",
       "NewExist            0\n",
       "CreateJob           0\n",
       "RetainedJob         0\n",
       "FranchiseCode       0\n",
       "UrbanRural          0\n",
       "RevLineCr           9\n",
       "LowDoc              0\n",
       "MIS_Status          0\n",
       "GrAppv              0\n",
       "SBA_Appv            0\n",
       "dtype: int64"
      ]
     },
     "metadata": {},
     "output_type": "display_data"
    },
    {
     "name": "stdout",
     "output_type": "stream",
     "text": [
      "Valeurs manquantes sur le subset NewExist\n"
     ]
    },
    {
     "data": {
      "text/plain": [
       "Name               0\n",
       "City               0\n",
       "State              0\n",
       "Zip                0\n",
       "Bank               0\n",
       "BankState          0\n",
       "NAICS              0\n",
       "ApprovalDate       0\n",
       "ApprovalFY         0\n",
       "Term               0\n",
       "NoEmp              0\n",
       "NewExist         134\n",
       "CreateJob          0\n",
       "RetainedJob        0\n",
       "FranchiseCode      0\n",
       "UrbanRural         0\n",
       "RevLineCr          0\n",
       "LowDoc             3\n",
       "MIS_Status         0\n",
       "GrAppv             0\n",
       "SBA_Appv           0\n",
       "dtype: int64"
      ]
     },
     "metadata": {},
     "output_type": "display_data"
    },
    {
     "name": "stdout",
     "output_type": "stream",
     "text": [
      "Valeurs manquantes sur le subset RevLineCr\n"
     ]
    },
    {
     "data": {
      "text/plain": [
       "Name                0\n",
       "City                0\n",
       "State               0\n",
       "Zip                 0\n",
       "Bank                9\n",
       "BankState           9\n",
       "NAICS               0\n",
       "ApprovalDate        0\n",
       "ApprovalFY          0\n",
       "Term                0\n",
       "NoEmp               0\n",
       "NewExist            0\n",
       "CreateJob           0\n",
       "RetainedJob         0\n",
       "FranchiseCode       0\n",
       "UrbanRural          0\n",
       "RevLineCr        4520\n",
       "LowDoc              0\n",
       "MIS_Status          0\n",
       "GrAppv              0\n",
       "SBA_Appv            0\n",
       "dtype: int64"
      ]
     },
     "metadata": {},
     "output_type": "display_data"
    },
    {
     "name": "stdout",
     "output_type": "stream",
     "text": [
      "Valeurs manquantes sur le subset LowDoc\n"
     ]
    },
    {
     "data": {
      "text/plain": [
       "Name                0\n",
       "City                0\n",
       "State               0\n",
       "Zip                 0\n",
       "Bank                0\n",
       "BankState           0\n",
       "NAICS               0\n",
       "ApprovalDate        0\n",
       "ApprovalFY          0\n",
       "Term                0\n",
       "NoEmp               0\n",
       "NewExist            3\n",
       "CreateJob           0\n",
       "RetainedJob         0\n",
       "FranchiseCode       0\n",
       "UrbanRural          0\n",
       "RevLineCr           0\n",
       "LowDoc           2578\n",
       "MIS_Status          0\n",
       "GrAppv              0\n",
       "SBA_Appv            0\n",
       "dtype: int64"
      ]
     },
     "metadata": {},
     "output_type": "display_data"
    }
   ],
   "source": [
    "missing_values = data.isnull().sum()\n",
    "col_missing_values = missing_values[missing_values > 0].index.tolist()\n",
    "\n",
    "for feature in col_missing_values:\n",
    "    print(f\"Valeurs manquantes sur le subset {feature}\")\n",
    "    display(data[data[feature].isnull()].isnull().sum())"
   ]
  },
  {
   "cell_type": "markdown",
   "metadata": {},
   "source": [
    "## Nettoyage par colonnes"
   ]
  },
  {
   "cell_type": "markdown",
   "metadata": {},
   "source": [
    "### MIS_Status"
   ]
  },
  {
   "cell_type": "markdown",
   "metadata": {},
   "source": [
    "- CHGOFF = non remboursé (Charged Off) = 1\n",
    "- PIF = remboursé (Paid In Full) = 0"
   ]
  },
  {
   "cell_type": "code",
   "execution_count": 66,
   "metadata": {},
   "outputs": [
    {
     "data": {
      "text/plain": [
       "MIS_Status\n",
       "1    739609\n",
       "0    157558\n",
       "Name: count, dtype: int64"
      ]
     },
     "execution_count": 66,
     "metadata": {},
     "output_type": "execute_result"
    }
   ],
   "source": [
    "mapping = {\"CHGOFF\": 0, \"P I F\": 1}\n",
    "\n",
    "data[\"MIS_Status\"] = data[\"MIS_Status\"].map(mapping)\n",
    "data[\"MIS_Status\"].value_counts()"
   ]
  },
  {
   "cell_type": "markdown",
   "metadata": {},
   "source": [
    "### BankState"
   ]
  },
  {
   "cell_type": "markdown",
   "metadata": {},
   "source": [
    "56 valeurs pour les états "
   ]
  },
  {
   "cell_type": "markdown",
   "metadata": {},
   "source": [
    "### ApprovalFY"
   ]
  },
  {
   "cell_type": "code",
   "execution_count": 67,
   "metadata": {},
   "outputs": [
    {
     "data": {
      "text/plain": [
       "array(['1997', '1980', '2006', '1998', '1999', '2000', '2001', '1972',\n",
       "       '2003', '2004', '1978', '1979', '1981', '2005', '1982', '1966',\n",
       "       '1983', '1973', '1984', '2007', '1985', '1986', '1987', '2008',\n",
       "       '1988', '2009', '1989', '1991', '1990', '1974', '2010', '2011',\n",
       "       '1992', '1993', '2002', '2012', '2013', '1994', '2014', '1975',\n",
       "       '1977', '1976', '1968', '1969', '1995', '1970', '1996', '1971'],\n",
       "      dtype=object)"
      ]
     },
     "execution_count": 67,
     "metadata": {},
     "output_type": "execute_result"
    }
   ],
   "source": [
    "data[\"ApprovalFY\"] = data['ApprovalFY'].astype(str).str.replace('[^\\d]', '', regex=True)\n",
    "data[\"ApprovalFY\"].unique()"
   ]
  },
  {
   "cell_type": "markdown",
   "metadata": {},
   "source": [
    "### NewExist"
   ]
  },
  {
   "cell_type": "markdown",
   "metadata": {},
   "source": [
    "- 1 = existing business\n",
    "- 2 = new business\n",
    "- 0 = no info"
   ]
  },
  {
   "cell_type": "code",
   "execution_count": 68,
   "metadata": {},
   "outputs": [
    {
     "data": {
      "text/plain": [
       "NewExist\n",
       "Existing    643446\n",
       "New         252559\n",
       "0             1028\n",
       "Name: count, dtype: int64"
      ]
     },
     "execution_count": 68,
     "metadata": {},
     "output_type": "execute_result"
    }
   ],
   "source": [
    "mapping = {0.0: \"0\", 1.0: \"Existing\", 2.0: \"New\"}\n",
    "\n",
    "data[\"NewExist\"] = data[\"NewExist\"].map(mapping)\n",
    "\n",
    "data[\"NewExist\"].value_counts()"
   ]
  },
  {
   "cell_type": "markdown",
   "metadata": {},
   "source": [
    "### FranchiseCode"
   ]
  },
  {
   "cell_type": "markdown",
   "metadata": {},
   "source": [
    "- 1 et 0 = no franchise -> 0\n",
    "- other number = franchise"
   ]
  },
  {
   "cell_type": "code",
   "execution_count": 69,
   "metadata": {},
   "outputs": [],
   "source": [
    "no_franchised = data[data[\"FranchiseCode\"] == 1]\n",
    "\n",
    "data.loc[no_franchised.index, \"FranchiseCode\"] = 0"
   ]
  },
  {
   "cell_type": "markdown",
   "metadata": {},
   "source": [
    "### UrbanRural"
   ]
  },
  {
   "cell_type": "markdown",
   "metadata": {},
   "source": [
    "- 0 = undefined\n",
    "- 1 = Urban\n",
    "- 2 = Rural"
   ]
  },
  {
   "cell_type": "code",
   "execution_count": 70,
   "metadata": {},
   "outputs": [
    {
     "data": {
      "text/plain": [
       "UrbanRural\n",
       "Urban    469281\n",
       "0        322826\n",
       "Rural    105060\n",
       "Name: count, dtype: int64"
      ]
     },
     "execution_count": 70,
     "metadata": {},
     "output_type": "execute_result"
    }
   ],
   "source": [
    "mapping = {0: \"0\", 1: \"Urban\", 2: \"Rural\"}\n",
    "\n",
    "data[\"UrbanRural\"] = data[\"UrbanRural\"].map(mapping)\n",
    "data[\"UrbanRural\"].value_counts()"
   ]
  },
  {
   "cell_type": "markdown",
   "metadata": {},
   "source": [
    "### GrAppv"
   ]
  },
  {
   "cell_type": "code",
   "execution_count": 71,
   "metadata": {},
   "outputs": [],
   "source": [
    "data[\"GrAppv\"] = pd.to_numeric(data['GrAppv'].str.replace(\"[^\\d.]\", \"\", regex=True), errors=\"coerce\").astype(int)"
   ]
  },
  {
   "cell_type": "markdown",
   "metadata": {},
   "source": [
    "### SBA_Appv"
   ]
  },
  {
   "cell_type": "code",
   "execution_count": 72,
   "metadata": {},
   "outputs": [],
   "source": [
    "data[\"SBA_Appv\"] = pd.to_numeric(data[\"SBA_Appv\"].str.replace(\"[^\\d.]\", \"\", regex=True), errors=\"coerce\").astype(int)"
   ]
  },
  {
   "cell_type": "markdown",
   "metadata": {},
   "source": [
    "### RevLineCr"
   ]
  },
  {
   "cell_type": "code",
   "execution_count": 73,
   "metadata": {},
   "outputs": [
    {
     "data": {
      "text/plain": [
       "RevLineCr\n",
       "N    419252\n",
       "0    262016\n",
       "Y    215899\n",
       "Name: count, dtype: int64"
      ]
     },
     "execution_count": 73,
     "metadata": {},
     "output_type": "execute_result"
    }
   ],
   "source": [
    "data[\"RevLineCr\"] = data[\"RevLineCr\"].replace(\"T\", \"Y\")\n",
    "rev_errors = data[(data[\"RevLineCr\"] != \"N\") & (data[\"RevLineCr\"] != \"Y\")]\n",
    "\n",
    "data.loc[rev_errors.index, \"RevLineCr\"] = \"0\"\n",
    "\n",
    "data[\"RevLineCr\"].value_counts()"
   ]
  },
  {
   "cell_type": "markdown",
   "metadata": {},
   "source": [
    "### LowDoc"
   ]
  },
  {
   "cell_type": "code",
   "execution_count": 74,
   "metadata": {},
   "outputs": [],
   "source": [
    "# low_subset = data[(data[\"LowDoc\"] != \"N\") & (data[\"LowDoc\"] != \"Y\")]\n",
    "# display(low_subset[\"LowDoc\"].value_counts())\n",
    "\n",
    "# low_subset_y = low_subset[data[\"GrAppv\"] < 150000]\n",
    "# low_subset_n = low_subset[data[\"GrAppv\"] >= 150000]\n",
    "\n",
    "# data.loc[low_subset_n.index, \"LowDoc\"] = \"N\"\n",
    "# data.loc[low_subset_y.index, \"LowDoc\"] = \"Y\"\n",
    "\n",
    "# data[\"LowDoc\"].value_counts()"
   ]
  },
  {
   "cell_type": "code",
   "execution_count": 75,
   "metadata": {},
   "outputs": [
    {
     "data": {
      "text/plain": [
       "LowDoc\n",
       "N    780997\n",
       "Y    110171\n",
       "0      5999\n",
       "Name: count, dtype: int64"
      ]
     },
     "execution_count": 75,
     "metadata": {},
     "output_type": "execute_result"
    }
   ],
   "source": [
    "low_errors = data[(data[\"LowDoc\"] != \"N\") & (data[\"LowDoc\"] != \"Y\")]\n",
    "\n",
    "data.loc[low_errors.index, \"LowDoc\"] = \"0\"\n",
    "\n",
    "data[\"LowDoc\"].value_counts()"
   ]
  },
  {
   "cell_type": "markdown",
   "metadata": {},
   "source": [
    "## Création nouvelles colonnes"
   ]
  },
  {
   "cell_type": "markdown",
   "metadata": {},
   "source": [
    "### Zip2"
   ]
  },
  {
   "cell_type": "code",
   "execution_count": 76,
   "metadata": {},
   "outputs": [],
   "source": [
    "data[\"Zip2\"] = data[\"Zip\"].astype(str).str[:2]"
   ]
  },
  {
   "cell_type": "markdown",
   "metadata": {},
   "source": [
    "### NAICS2"
   ]
  },
  {
   "cell_type": "code",
   "execution_count": 77,
   "metadata": {},
   "outputs": [],
   "source": [
    "data[\"NAICS2\"] = data[\"NAICS\"].astype(str).str[:2]"
   ]
  },
  {
   "cell_type": "markdown",
   "metadata": {},
   "source": [
    "### Franchised"
   ]
  },
  {
   "cell_type": "code",
   "execution_count": 78,
   "metadata": {},
   "outputs": [],
   "source": [
    "data[\"Franchised\"] = 0\n",
    "franchised = data[(data[\"FranchiseCode\"] != 0) & (data[\"FranchiseCode\"] != 1)]\n",
    "data.loc[franchised.index, \"Franchised\"] = 1\n",
    "\n",
    "mapping = {0: \"N\", 1: \"Y\"}\n",
    "data[\"Franchised\"] = data[\"Franchised\"].map(mapping)"
   ]
  },
  {
   "cell_type": "markdown",
   "metadata": {},
   "source": [
    "### RealEstate"
   ]
  },
  {
   "cell_type": "code",
   "execution_count": 79,
   "metadata": {},
   "outputs": [],
   "source": [
    "data[\"RealEstate\"] = 0\n",
    "real_estate = data[data[\"Term\"] >= 240]\n",
    "data.loc[real_estate.index, \"RealEstate\"] = 1\n",
    "\n",
    "mapping = {0: \"N\", 1: \"Y\"}\n",
    "data[\"RealEstate\"] = data[\"RealEstate\"].map(mapping)"
   ]
  },
  {
   "cell_type": "markdown",
   "metadata": {},
   "source": [
    "## Changement des types"
   ]
  },
  {
   "cell_type": "code",
   "execution_count": 80,
   "metadata": {},
   "outputs": [
    {
     "name": "stdout",
     "output_type": "stream",
     "text": [
      "<class 'pandas.core.frame.DataFrame'>\n",
      "Index: 897167 entries, 0 to 899163\n",
      "Data columns (total 25 columns):\n",
      " #   Column         Non-Null Count   Dtype \n",
      "---  ------         --------------   ----- \n",
      " 0   Name           897153 non-null  object\n",
      " 1   City           897137 non-null  object\n",
      " 2   State          897154 non-null  object\n",
      " 3   Zip            897167 non-null  int64 \n",
      " 4   Bank           895661 non-null  object\n",
      " 5   BankState      895654 non-null  object\n",
      " 6   NAICS          897167 non-null  int64 \n",
      " 7   ApprovalDate   897167 non-null  object\n",
      " 8   ApprovalFY     897167 non-null  object\n",
      " 9   Term           897167 non-null  int64 \n",
      " 10  NoEmp          897167 non-null  int64 \n",
      " 11  NewExist       897033 non-null  object\n",
      " 12  CreateJob      897167 non-null  int64 \n",
      " 13  RetainedJob    897167 non-null  int64 \n",
      " 14  FranchiseCode  897167 non-null  int64 \n",
      " 15  UrbanRural     897167 non-null  object\n",
      " 16  RevLineCr      897167 non-null  object\n",
      " 17  LowDoc         897167 non-null  object\n",
      " 18  MIS_Status     897167 non-null  int64 \n",
      " 19  GrAppv         897167 non-null  int64 \n",
      " 20  SBA_Appv       897167 non-null  int64 \n",
      " 21  Zip2           897167 non-null  object\n",
      " 22  NAICS2         897167 non-null  object\n",
      " 23  Franchised     897167 non-null  object\n",
      " 24  RealEstate     897167 non-null  object\n",
      "dtypes: int64(10), object(15)\n",
      "memory usage: 210.2+ MB\n"
     ]
    }
   ],
   "source": [
    "data.info()"
   ]
  },
  {
   "cell_type": "code",
   "execution_count": 81,
   "metadata": {},
   "outputs": [],
   "source": [
    "data = data.astype({\"State\": \"category\",\n",
    "                    \"Zip\": \"object\", \n",
    "                    \"BankState\": \"category\",\n",
    "                    \"NAICS\": \"object\",\n",
    "                    \"ApprovalDate\": \"datetime64[ns]\",\n",
    "                    \"ApprovalFY\": \"category\",\n",
    "                    \"NewExist\": \"category\",\n",
    "                    \"FranchiseCode\": \"object\",\n",
    "                    \"UrbanRural\": \"category\",\n",
    "                    \"RevLineCr\": \"category\",\n",
    "                    \"LowDoc\": \"category\",\n",
    "                    \"Zip2\": \"category\",\n",
    "                    \"NAICS2\": \"category\",\n",
    "                    \"Franchised\": \"category\",\n",
    "                    \"RealEstate\": \"category\"})"
   ]
  },
  {
   "cell_type": "code",
   "execution_count": 82,
   "metadata": {},
   "outputs": [
    {
     "name": "stdout",
     "output_type": "stream",
     "text": [
      "<class 'pandas.core.frame.DataFrame'>\n",
      "Index: 897167 entries, 0 to 899163\n",
      "Data columns (total 25 columns):\n",
      " #   Column         Non-Null Count   Dtype         \n",
      "---  ------         --------------   -----         \n",
      " 0   Name           897153 non-null  object        \n",
      " 1   City           897137 non-null  object        \n",
      " 2   State          897154 non-null  category      \n",
      " 3   Zip            897167 non-null  object        \n",
      " 4   Bank           895661 non-null  object        \n",
      " 5   BankState      895654 non-null  category      \n",
      " 6   NAICS          897167 non-null  object        \n",
      " 7   ApprovalDate   897167 non-null  datetime64[ns]\n",
      " 8   ApprovalFY     897167 non-null  category      \n",
      " 9   Term           897167 non-null  int64         \n",
      " 10  NoEmp          897167 non-null  int64         \n",
      " 11  NewExist       897033 non-null  category      \n",
      " 12  CreateJob      897167 non-null  int64         \n",
      " 13  RetainedJob    897167 non-null  int64         \n",
      " 14  FranchiseCode  897167 non-null  object        \n",
      " 15  UrbanRural     897167 non-null  category      \n",
      " 16  RevLineCr      897167 non-null  category      \n",
      " 17  LowDoc         897167 non-null  category      \n",
      " 18  MIS_Status     897167 non-null  int64         \n",
      " 19  GrAppv         897167 non-null  int64         \n",
      " 20  SBA_Appv       897167 non-null  int64         \n",
      " 21  Zip2           897167 non-null  category      \n",
      " 22  NAICS2         897167 non-null  category      \n",
      " 23  Franchised     897167 non-null  category      \n",
      " 24  RealEstate     897167 non-null  category      \n",
      "dtypes: category(11), datetime64[ns](1), int64(7), object(6)\n",
      "memory usage: 144.3+ MB\n"
     ]
    }
   ],
   "source": [
    "data.info()"
   ]
  },
  {
   "cell_type": "markdown",
   "metadata": {},
   "source": [
    "## Exportation du dataset global nettoyé"
   ]
  },
  {
   "cell_type": "code",
   "execution_count": 83,
   "metadata": {},
   "outputs": [],
   "source": [
    "data = data.dropna()\n",
    "\n",
    "data.to_csv(\"datasets/SBAnational-cleaned.csv\", index=None)\n",
    "\n",
    "data.to_pickle(\"datasets/dataset.pkl\")"
   ]
  },
  {
   "cell_type": "markdown",
   "metadata": {},
   "source": [
    "## Suppression valeurs incohérentes"
   ]
  },
  {
   "cell_type": "code",
   "execution_count": 84,
   "metadata": {},
   "outputs": [
    {
     "data": {
      "text/plain": [
       "(895465, 25)"
      ]
     },
     "execution_count": 84,
     "metadata": {},
     "output_type": "execute_result"
    }
   ],
   "source": [
    "data_test = data\n",
    "data_test.shape"
   ]
  },
  {
   "cell_type": "code",
   "execution_count": 85,
   "metadata": {},
   "outputs": [
    {
     "data": {
      "text/plain": [
       "(200743, 25)"
      ]
     },
     "metadata": {},
     "output_type": "display_data"
    },
    {
     "data": {
      "text/plain": [
       "(1025, 25)"
      ]
     },
     "metadata": {},
     "output_type": "display_data"
    },
    {
     "data": {
      "text/plain": [
       "(261984, 25)"
      ]
     },
     "metadata": {},
     "output_type": "display_data"
    },
    {
     "data": {
      "text/plain": [
       "(5993, 25)"
      ]
     },
     "metadata": {},
     "output_type": "display_data"
    }
   ],
   "source": [
    "display(data[data[\"NAICS\"] == 0].shape)\n",
    "display(data[data[\"NewExist\"] == \"0\"].shape)\n",
    "display(data[data[\"RevLineCr\"] == \"0\"].shape)\n",
    "display(data[data[\"LowDoc\"] == \"0\"].shape)"
   ]
  },
  {
   "cell_type": "code",
   "execution_count": 86,
   "metadata": {},
   "outputs": [
    {
     "data": {
      "text/plain": [
       "(473218, 25)"
      ]
     },
     "metadata": {},
     "output_type": "display_data"
    }
   ],
   "source": [
    "data_drop = data.dropna()\n",
    "data_drop = data_drop[data_drop[\"NAICS\"] != 0]\n",
    "data_drop = data_drop[data_drop[\"NAICS2\"] != \"0\"]\n",
    "data_drop = data_drop[data_drop[\"NewExist\"] != \"0\"]\n",
    "data_drop = data_drop[data_drop[\"RevLineCr\"] != \"0\"]\n",
    "data_drop = data_drop[data_drop[\"LowDoc\"] != \"0\"]\n",
    "\n",
    "display(data_drop.shape)"
   ]
  },
  {
   "cell_type": "code",
   "execution_count": 87,
   "metadata": {},
   "outputs": [],
   "source": [
    "data_drop.to_pickle(\"datasets/dataset_withoutBadValues.pkl\")"
   ]
  }
 ],
 "metadata": {
  "kernelspec": {
   "display_name": ".venv",
   "language": "python",
   "name": "python3"
  },
  "language_info": {
   "codemirror_mode": {
    "name": "ipython",
    "version": 3
   },
   "file_extension": ".py",
   "mimetype": "text/x-python",
   "name": "python",
   "nbconvert_exporter": "python",
   "pygments_lexer": "ipython3",
   "version": "3.10.12"
  }
 },
 "nbformat": 4,
 "nbformat_minor": 2
}
