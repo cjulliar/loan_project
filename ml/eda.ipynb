{
 "cells": [
  {
   "cell_type": "markdown",
   "metadata": {},
   "source": [
    "# Exploration des données"
   ]
  },
  {
   "cell_type": "markdown",
   "metadata": {},
   "source": [
    "## Importation librairies et dataset"
   ]
  },
  {
   "cell_type": "code",
   "execution_count": 13,
   "metadata": {},
   "outputs": [],
   "source": [
    "import numpy as np\n",
    "import pandas as pd\n",
    "import pickle\n",
    "import sweetviz as sv"
   ]
  },
  {
   "cell_type": "code",
   "execution_count": 14,
   "metadata": {},
   "outputs": [],
   "source": [
    "data_lg = pd.read_pickle(\"datasets/dataset.pkl\")\n",
    "data_sm = pd.read_pickle(\"datasets/dataset_withoutBadValues.pkl\")\n"
   ]
  },
  {
   "cell_type": "code",
   "execution_count": 15,
   "metadata": {},
   "outputs": [
    {
     "name": "stdout",
     "output_type": "stream",
     "text": [
      "<class 'pandas.core.frame.DataFrame'>\n",
      "Index: 473218 entries, 0 to 899161\n",
      "Data columns (total 25 columns):\n",
      " #   Column         Non-Null Count   Dtype         \n",
      "---  ------         --------------   -----         \n",
      " 0   Name           473218 non-null  object        \n",
      " 1   City           473218 non-null  object        \n",
      " 2   State          473218 non-null  category      \n",
      " 3   Zip            473218 non-null  object        \n",
      " 4   Bank           473218 non-null  object        \n",
      " 5   BankState      473218 non-null  category      \n",
      " 6   NAICS          473218 non-null  object        \n",
      " 7   ApprovalDate   473218 non-null  datetime64[ns]\n",
      " 8   ApprovalFY     473218 non-null  category      \n",
      " 9   Term           473218 non-null  int64         \n",
      " 10  NoEmp          473218 non-null  int64         \n",
      " 11  NewExist       473218 non-null  category      \n",
      " 12  CreateJob      473218 non-null  int64         \n",
      " 13  RetainedJob    473218 non-null  int64         \n",
      " 14  FranchiseCode  473218 non-null  object        \n",
      " 15  UrbanRural     473218 non-null  category      \n",
      " 16  RevLineCr      473218 non-null  category      \n",
      " 17  LowDoc         473218 non-null  category      \n",
      " 18  MIS_Status     473218 non-null  int64         \n",
      " 19  GrAppv         473218 non-null  int64         \n",
      " 20  SBA_Appv       473218 non-null  int64         \n",
      " 21  Zip2           473218 non-null  category      \n",
      " 22  NAICS2         473218 non-null  category      \n",
      " 23  Franchised     473218 non-null  category      \n",
      " 24  RealEstate     473218 non-null  category      \n",
      "dtypes: category(11), datetime64[ns](1), int64(7), object(6)\n",
      "memory usage: 59.1+ MB\n"
     ]
    }
   ],
   "source": [
    "data = data_sm\n",
    "data.info()"
   ]
  },
  {
   "cell_type": "markdown",
   "metadata": {},
   "source": [
    "## Description des features"
   ]
  },
  {
   "cell_type": "markdown",
   "metadata": {},
   "source": [
    "| Colonne        | Type de données   | Modalités                 | Exemple de Données | Description                                       |\n",
    "|----------------|-------------------|---------------------------|--------------------|---------------------------------------------------|\n",
    "| Name           | Object            | N/A                       | \"Entreprise A\"     | Nom de l'entreprise souhaitant réaliser le prêt   |\n",
    "| City           | Object            | N/A                       | \"New York\"         | Ville où se l'entreprise                          |\n",
    "| State          | Category          | \"NY\", \"CA\" ...            | \"NY\"               | État où se situe l'entreprise (abréviations en deux lettres)|\n",
    "| Zip            | Object            | N/A                       | 10001              | Code postal de l'entreprise                       |\n",
    "| Bank           | Object            | N/A                       | \"ABC Bank\"         | Nom de la banque accordant le prêt                |\n",
    "| BankState      | Category          | \"NY\", \"CA\"...             | \"NY\"               | État où se situe la banque (abréviations en deux lettres)|\n",
    "| NAICS          | Object            | N/A                       | 722410             | Code du secteur d'activité de l'entreprise        |\n",
    "| ApprovalDate   | Datetime64[ns]    | N/A                       | 2023-05-12         | Date à laquelle le prêt a été approuvé            |\n",
    "| ApprovalFY     | Category          | \"1970\", \"1971\" ..         | \"2023\"             | Année fiscale du prêt                             |\n",
    "| Term           | Int64             | N/A                       | 60                 | Durée du prêt en mois                             |\n",
    "| NoEmp          | Int64             | N/A                       | 10                 | Nombre d'employés de l'entreprise                 |\n",
    "| NewExist       | Category          | \"New\", \"Existing\", \"0\"    | \"Existing\"         | Indication si l'entreprise est créé depuis moins de deux ans|\n",
    "| CreateJob      | Int64             | N/A                       | 5                  | Nombre d'emplois créés par le prêt                |\n",
    "| RetainedJob    | Int64             | N/A                       | 8                  | Nombre d'emplois conservés grâce au prêt          |\n",
    "| FranchiseCode  | Object            | 0, 11500, 12564 ...       | 0                  | Code indiquant si l'entreprise est une franchise (0 si non franchisé)|\n",
    "| UrbanRural     | Category          | \"Urban\", \"Rural\", \"0\"     | Urban              | Type d'environnement où se situe l'entreprise  (0 si non défini)|\n",
    "| RevLineCr      | Category          | \"Y\", \"N\", \"0\"             | \"Y\"                | Indication si une ligne de crédit  est renouvelable (0 si non défini) |\n",
    "| LowDoc         | Category          | \"Y\", \"N\", \"0\"             | \"N\"                | Indication si la demande de prêt peut être fait en 1 page (0 si non défini) |\n",
    "| MIS_Status     | Int64             | 0, 1                      | 1                  | Statut du prêt (0 si non remboursé, 1 si remboursé)  |\n",
    "| GrAppv         | Int64             | N/A                       | 150000             | Montant total approuvé pour le prêt               |\n",
    "| SBA_Appv       | Int64             | N/A                       | 75000              | Montant approuvé par la SBA pour le prêt          |\n",
    "| Zip2           | Category          | \"10\", \"20\", \"30\", ...     | \"10\"               | Code postal de l'entreprise (les 2 premiers chiffres) |\n",
    "| NAICS2         | Category          | \"12\", \"13\"  ...           | \"12\"               | Code du secteur d'activité de l'entreprise (les 2 premiers chiffres) |\n",
    "| Franchised     | Category          | \"Y\", \"N\"                  | \"N\"                 | Indication si l'entreprise est une franchise     |\n",
    "| RealEstate     | Category          | \"Y\", \"N\"                  | \"Y\"                | Indication  si le prêt est lié à l'immobilier     |\n",
    "\n"
   ]
  },
  {
   "cell_type": "markdown",
   "metadata": {},
   "source": [
    "## Exploration avec SweetViz"
   ]
  },
  {
   "cell_type": "code",
   "execution_count": 16,
   "metadata": {},
   "outputs": [
    {
     "name": "stderr",
     "output_type": "stream",
     "text": [
      "Done! Use 'show' commands to display/save.   |██████████| [100%]   00:01 -> (00:00 left)\n"
     ]
    },
    {
     "name": "stdout",
     "output_type": "stream",
     "text": [
      "Report sv-reports/report_sm.html was generated! NOTEBOOK/COLAB USERS: the web browser MAY not pop up, regardless, the report IS saved in your notebook/colab files.\n"
     ]
    }
   ],
   "source": [
    "report = sv.analyze(data, \"MIS_Status\")\n",
    "report.show_html(\"sv-reports/report_sm.html\", layout=\"vertical\")"
   ]
  },
  {
   "cell_type": "markdown",
   "metadata": {},
   "source": [
    "## Autres explorations"
   ]
  },
  {
   "cell_type": "code",
   "execution_count": 17,
   "metadata": {},
   "outputs": [
    {
     "data": {
      "text/html": [
       "<div>\n",
       "<style scoped>\n",
       "    .dataframe tbody tr th:only-of-type {\n",
       "        vertical-align: middle;\n",
       "    }\n",
       "\n",
       "    .dataframe tbody tr th {\n",
       "        vertical-align: top;\n",
       "    }\n",
       "\n",
       "    .dataframe thead th {\n",
       "        text-align: right;\n",
       "    }\n",
       "</style>\n",
       "<table border=\"1\" class=\"dataframe\">\n",
       "  <thead>\n",
       "    <tr style=\"text-align: right;\">\n",
       "      <th></th>\n",
       "      <th>Name</th>\n",
       "      <th>City</th>\n",
       "      <th>State</th>\n",
       "      <th>Zip</th>\n",
       "      <th>Bank</th>\n",
       "      <th>BankState</th>\n",
       "      <th>NAICS</th>\n",
       "      <th>ApprovalDate</th>\n",
       "      <th>ApprovalFY</th>\n",
       "      <th>Term</th>\n",
       "      <th>...</th>\n",
       "      <th>UrbanRural</th>\n",
       "      <th>RevLineCr</th>\n",
       "      <th>LowDoc</th>\n",
       "      <th>MIS_Status</th>\n",
       "      <th>GrAppv</th>\n",
       "      <th>SBA_Appv</th>\n",
       "      <th>Zip2</th>\n",
       "      <th>NAICS2</th>\n",
       "      <th>Franchised</th>\n",
       "      <th>RealEstate</th>\n",
       "    </tr>\n",
       "  </thead>\n",
       "  <tbody>\n",
       "    <tr>\n",
       "      <th>24</th>\n",
       "      <td>SUBWAY</td>\n",
       "      <td>LITTLE ROCK</td>\n",
       "      <td>AR</td>\n",
       "      <td>72223</td>\n",
       "      <td>HOPE FCU</td>\n",
       "      <td>MS</td>\n",
       "      <td>722211</td>\n",
       "      <td>2006-02-07</td>\n",
       "      <td>2006</td>\n",
       "      <td>126</td>\n",
       "      <td>...</td>\n",
       "      <td>Urban</td>\n",
       "      <td>N</td>\n",
       "      <td>N</td>\n",
       "      <td>1</td>\n",
       "      <td>137300</td>\n",
       "      <td>116705</td>\n",
       "      <td>72</td>\n",
       "      <td>72</td>\n",
       "      <td>N</td>\n",
       "      <td>N</td>\n",
       "    </tr>\n",
       "    <tr>\n",
       "      <th>8287</th>\n",
       "      <td>SUBWAY</td>\n",
       "      <td>NORWICH</td>\n",
       "      <td>CT</td>\n",
       "      <td>6360</td>\n",
       "      <td>BANK OF AMERICA NATL ASSOC</td>\n",
       "      <td>RI</td>\n",
       "      <td>722211</td>\n",
       "      <td>2004-09-08</td>\n",
       "      <td>2004</td>\n",
       "      <td>36</td>\n",
       "      <td>...</td>\n",
       "      <td>Urban</td>\n",
       "      <td>Y</td>\n",
       "      <td>N</td>\n",
       "      <td>1</td>\n",
       "      <td>47000</td>\n",
       "      <td>23500</td>\n",
       "      <td>63</td>\n",
       "      <td>72</td>\n",
       "      <td>Y</td>\n",
       "      <td>N</td>\n",
       "    </tr>\n",
       "    <tr>\n",
       "      <th>75411</th>\n",
       "      <td>SUBWAY</td>\n",
       "      <td>REISTERSTOWN</td>\n",
       "      <td>MD</td>\n",
       "      <td>21136</td>\n",
       "      <td>PNC BANK, NATIONAL ASSOCIATION</td>\n",
       "      <td>DE</td>\n",
       "      <td>722211</td>\n",
       "      <td>2006-03-31</td>\n",
       "      <td>2006</td>\n",
       "      <td>24</td>\n",
       "      <td>...</td>\n",
       "      <td>Urban</td>\n",
       "      <td>Y</td>\n",
       "      <td>N</td>\n",
       "      <td>1</td>\n",
       "      <td>10000</td>\n",
       "      <td>5000</td>\n",
       "      <td>21</td>\n",
       "      <td>72</td>\n",
       "      <td>N</td>\n",
       "      <td>N</td>\n",
       "    </tr>\n",
       "    <tr>\n",
       "      <th>85890</th>\n",
       "      <td>SUBWAY</td>\n",
       "      <td>MEDICINE LODGE</td>\n",
       "      <td>KS</td>\n",
       "      <td>67104</td>\n",
       "      <td>THE PEOPLES BANK</td>\n",
       "      <td>KS</td>\n",
       "      <td>722211</td>\n",
       "      <td>2006-04-06</td>\n",
       "      <td>2006</td>\n",
       "      <td>120</td>\n",
       "      <td>...</td>\n",
       "      <td>Rural</td>\n",
       "      <td>N</td>\n",
       "      <td>N</td>\n",
       "      <td>1</td>\n",
       "      <td>58000</td>\n",
       "      <td>49300</td>\n",
       "      <td>67</td>\n",
       "      <td>72</td>\n",
       "      <td>Y</td>\n",
       "      <td>N</td>\n",
       "    </tr>\n",
       "    <tr>\n",
       "      <th>87169</th>\n",
       "      <td>SUBWAY</td>\n",
       "      <td>MILTON</td>\n",
       "      <td>WV</td>\n",
       "      <td>25541</td>\n",
       "      <td>CAPITAL ONE NATL ASSOC</td>\n",
       "      <td>VA</td>\n",
       "      <td>722211</td>\n",
       "      <td>2006-02-07</td>\n",
       "      <td>2006</td>\n",
       "      <td>36</td>\n",
       "      <td>...</td>\n",
       "      <td>Rural</td>\n",
       "      <td>Y</td>\n",
       "      <td>N</td>\n",
       "      <td>0</td>\n",
       "      <td>35000</td>\n",
       "      <td>17500</td>\n",
       "      <td>25</td>\n",
       "      <td>72</td>\n",
       "      <td>N</td>\n",
       "      <td>N</td>\n",
       "    </tr>\n",
       "  </tbody>\n",
       "</table>\n",
       "<p>5 rows × 25 columns</p>\n",
       "</div>"
      ],
      "text/plain": [
       "         Name            City State    Zip                            Bank  \\\n",
       "24     SUBWAY     LITTLE ROCK    AR  72223                        HOPE FCU   \n",
       "8287   SUBWAY         NORWICH    CT   6360      BANK OF AMERICA NATL ASSOC   \n",
       "75411  SUBWAY    REISTERSTOWN    MD  21136  PNC BANK, NATIONAL ASSOCIATION   \n",
       "85890  SUBWAY  MEDICINE LODGE    KS  67104                THE PEOPLES BANK   \n",
       "87169  SUBWAY          MILTON    WV  25541          CAPITAL ONE NATL ASSOC   \n",
       "\n",
       "      BankState   NAICS ApprovalDate ApprovalFY  Term  ...  UrbanRural  \\\n",
       "24           MS  722211   2006-02-07       2006   126  ...       Urban   \n",
       "8287         RI  722211   2004-09-08       2004    36  ...       Urban   \n",
       "75411        DE  722211   2006-03-31       2006    24  ...       Urban   \n",
       "85890        KS  722211   2006-04-06       2006   120  ...       Rural   \n",
       "87169        VA  722211   2006-02-07       2006    36  ...       Rural   \n",
       "\n",
       "      RevLineCr  LowDoc  MIS_Status  GrAppv SBA_Appv Zip2 NAICS2  Franchised  \\\n",
       "24            N       N           1  137300   116705   72     72           N   \n",
       "8287          Y       N           1   47000    23500   63     72           Y   \n",
       "75411         Y       N           1   10000     5000   21     72           N   \n",
       "85890         N       N           1   58000    49300   67     72           Y   \n",
       "87169         Y       N           0   35000    17500   25     72           N   \n",
       "\n",
       "       RealEstate  \n",
       "24              N  \n",
       "8287            N  \n",
       "75411           N  \n",
       "85890           N  \n",
       "87169           N  \n",
       "\n",
       "[5 rows x 25 columns]"
      ]
     },
     "metadata": {},
     "output_type": "display_data"
    },
    {
     "data": {
      "text/plain": [
       "MIS_Status\n",
       "1    184\n",
       "0     16\n",
       "Name: count, dtype: int64"
      ]
     },
     "execution_count": 17,
     "metadata": {},
     "output_type": "execute_result"
    }
   ],
   "source": [
    "subway_subset = data[data[\"Name\"] == \"SUBWAY\"]\n",
    "\n",
    "display(subway_subset.head())\n",
    "\n",
    "subway_subset[\"MIS_Status\"].value_counts()\n"
   ]
  },
  {
   "cell_type": "code",
   "execution_count": 18,
   "metadata": {},
   "outputs": [
    {
     "data": {
      "text/html": [
       "<div>\n",
       "<style scoped>\n",
       "    .dataframe tbody tr th:only-of-type {\n",
       "        vertical-align: middle;\n",
       "    }\n",
       "\n",
       "    .dataframe tbody tr th {\n",
       "        vertical-align: top;\n",
       "    }\n",
       "\n",
       "    .dataframe thead th {\n",
       "        text-align: right;\n",
       "    }\n",
       "</style>\n",
       "<table border=\"1\" class=\"dataframe\">\n",
       "  <thead>\n",
       "    <tr style=\"text-align: right;\">\n",
       "      <th></th>\n",
       "      <th>Name</th>\n",
       "      <th>City</th>\n",
       "      <th>State</th>\n",
       "      <th>Zip</th>\n",
       "      <th>Bank</th>\n",
       "      <th>BankState</th>\n",
       "      <th>NAICS</th>\n",
       "      <th>ApprovalDate</th>\n",
       "      <th>ApprovalFY</th>\n",
       "      <th>Term</th>\n",
       "      <th>...</th>\n",
       "      <th>UrbanRural</th>\n",
       "      <th>RevLineCr</th>\n",
       "      <th>LowDoc</th>\n",
       "      <th>MIS_Status</th>\n",
       "      <th>GrAppv</th>\n",
       "      <th>SBA_Appv</th>\n",
       "      <th>Zip2</th>\n",
       "      <th>NAICS2</th>\n",
       "      <th>Franchised</th>\n",
       "      <th>RealEstate</th>\n",
       "    </tr>\n",
       "  </thead>\n",
       "  <tbody>\n",
       "    <tr>\n",
       "      <th>204201</th>\n",
       "      <td>DOMINO'S PIZZA</td>\n",
       "      <td>CUYAHOGA FALLS</td>\n",
       "      <td>OH</td>\n",
       "      <td>44223</td>\n",
       "      <td>BANCO POPULAR NORTH AMERICA</td>\n",
       "      <td>NY</td>\n",
       "      <td>722211</td>\n",
       "      <td>2006-09-27</td>\n",
       "      <td>2006</td>\n",
       "      <td>59</td>\n",
       "      <td>...</td>\n",
       "      <td>Urban</td>\n",
       "      <td>Y</td>\n",
       "      <td>N</td>\n",
       "      <td>0</td>\n",
       "      <td>25000</td>\n",
       "      <td>12500</td>\n",
       "      <td>44</td>\n",
       "      <td>72</td>\n",
       "      <td>Y</td>\n",
       "      <td>N</td>\n",
       "    </tr>\n",
       "    <tr>\n",
       "      <th>235889</th>\n",
       "      <td>DOMINO'S PIZZA</td>\n",
       "      <td>GARDEN CITY</td>\n",
       "      <td>KS</td>\n",
       "      <td>67846</td>\n",
       "      <td>KEARNY COUNTY BANK</td>\n",
       "      <td>KS</td>\n",
       "      <td>722211</td>\n",
       "      <td>2007-02-09</td>\n",
       "      <td>2007</td>\n",
       "      <td>113</td>\n",
       "      <td>...</td>\n",
       "      <td>Rural</td>\n",
       "      <td>N</td>\n",
       "      <td>N</td>\n",
       "      <td>0</td>\n",
       "      <td>124000</td>\n",
       "      <td>105400</td>\n",
       "      <td>67</td>\n",
       "      <td>72</td>\n",
       "      <td>Y</td>\n",
       "      <td>N</td>\n",
       "    </tr>\n",
       "    <tr>\n",
       "      <th>245347</th>\n",
       "      <td>DOMINO'S PIZZA</td>\n",
       "      <td>CLEBURNE</td>\n",
       "      <td>TX</td>\n",
       "      <td>76031</td>\n",
       "      <td>COMMUNITY BANK</td>\n",
       "      <td>TX</td>\n",
       "      <td>722211</td>\n",
       "      <td>2007-03-26</td>\n",
       "      <td>2007</td>\n",
       "      <td>81</td>\n",
       "      <td>...</td>\n",
       "      <td>Urban</td>\n",
       "      <td>N</td>\n",
       "      <td>N</td>\n",
       "      <td>1</td>\n",
       "      <td>383000</td>\n",
       "      <td>287250</td>\n",
       "      <td>76</td>\n",
       "      <td>72</td>\n",
       "      <td>Y</td>\n",
       "      <td>N</td>\n",
       "    </tr>\n",
       "    <tr>\n",
       "      <th>252683</th>\n",
       "      <td>DOMINO'S PIZZA</td>\n",
       "      <td>DETROIT</td>\n",
       "      <td>MI</td>\n",
       "      <td>48205</td>\n",
       "      <td>CITIZENS BANK NATL ASSOC</td>\n",
       "      <td>RI</td>\n",
       "      <td>722110</td>\n",
       "      <td>2007-10-25</td>\n",
       "      <td>2008</td>\n",
       "      <td>84</td>\n",
       "      <td>...</td>\n",
       "      <td>Urban</td>\n",
       "      <td>Y</td>\n",
       "      <td>N</td>\n",
       "      <td>1</td>\n",
       "      <td>50000</td>\n",
       "      <td>25000</td>\n",
       "      <td>48</td>\n",
       "      <td>72</td>\n",
       "      <td>N</td>\n",
       "      <td>N</td>\n",
       "    </tr>\n",
       "    <tr>\n",
       "      <th>304652</th>\n",
       "      <td>DOMINO'S PIZZA</td>\n",
       "      <td>DAVIS</td>\n",
       "      <td>CA</td>\n",
       "      <td>95616</td>\n",
       "      <td>BANCO POPULAR NORTH AMERICA</td>\n",
       "      <td>NY</td>\n",
       "      <td>722211</td>\n",
       "      <td>2007-12-18</td>\n",
       "      <td>2008</td>\n",
       "      <td>74</td>\n",
       "      <td>...</td>\n",
       "      <td>Urban</td>\n",
       "      <td>Y</td>\n",
       "      <td>N</td>\n",
       "      <td>0</td>\n",
       "      <td>25000</td>\n",
       "      <td>12500</td>\n",
       "      <td>95</td>\n",
       "      <td>72</td>\n",
       "      <td>Y</td>\n",
       "      <td>N</td>\n",
       "    </tr>\n",
       "  </tbody>\n",
       "</table>\n",
       "<p>5 rows × 25 columns</p>\n",
       "</div>"
      ],
      "text/plain": [
       "                  Name            City State    Zip  \\\n",
       "204201  DOMINO'S PIZZA  CUYAHOGA FALLS    OH  44223   \n",
       "235889  DOMINO'S PIZZA     GARDEN CITY    KS  67846   \n",
       "245347  DOMINO'S PIZZA        CLEBURNE    TX  76031   \n",
       "252683  DOMINO'S PIZZA         DETROIT    MI  48205   \n",
       "304652  DOMINO'S PIZZA           DAVIS    CA  95616   \n",
       "\n",
       "                               Bank BankState   NAICS ApprovalDate ApprovalFY  \\\n",
       "204201  BANCO POPULAR NORTH AMERICA        NY  722211   2006-09-27       2006   \n",
       "235889           KEARNY COUNTY BANK        KS  722211   2007-02-09       2007   \n",
       "245347               COMMUNITY BANK        TX  722211   2007-03-26       2007   \n",
       "252683     CITIZENS BANK NATL ASSOC        RI  722110   2007-10-25       2008   \n",
       "304652  BANCO POPULAR NORTH AMERICA        NY  722211   2007-12-18       2008   \n",
       "\n",
       "        Term  ...  UrbanRural RevLineCr  LowDoc  MIS_Status  GrAppv SBA_Appv  \\\n",
       "204201    59  ...       Urban         Y       N           0   25000    12500   \n",
       "235889   113  ...       Rural         N       N           0  124000   105400   \n",
       "245347    81  ...       Urban         N       N           1  383000   287250   \n",
       "252683    84  ...       Urban         Y       N           1   50000    25000   \n",
       "304652    74  ...       Urban         Y       N           0   25000    12500   \n",
       "\n",
       "       Zip2 NAICS2  Franchised  RealEstate  \n",
       "204201   44     72           Y           N  \n",
       "235889   67     72           Y           N  \n",
       "245347   76     72           Y           N  \n",
       "252683   48     72           N           N  \n",
       "304652   95     72           Y           N  \n",
       "\n",
       "[5 rows x 25 columns]"
      ]
     },
     "metadata": {},
     "output_type": "display_data"
    }
   ],
   "source": [
    "pizza_subset = data[data[\"Name\"] == \"DOMINO'S PIZZA\"]\n",
    "\n",
    "display(pizza_subset.head())"
   ]
  },
  {
   "cell_type": "code",
   "execution_count": 19,
   "metadata": {},
   "outputs": [
    {
     "data": {
      "text/html": [
       "<div>\n",
       "<style scoped>\n",
       "    .dataframe tbody tr th:only-of-type {\n",
       "        vertical-align: middle;\n",
       "    }\n",
       "\n",
       "    .dataframe tbody tr th {\n",
       "        vertical-align: top;\n",
       "    }\n",
       "\n",
       "    .dataframe thead th {\n",
       "        text-align: right;\n",
       "    }\n",
       "</style>\n",
       "<table border=\"1\" class=\"dataframe\">\n",
       "  <thead>\n",
       "    <tr style=\"text-align: right;\">\n",
       "      <th></th>\n",
       "      <th>Name</th>\n",
       "      <th>City</th>\n",
       "      <th>State</th>\n",
       "      <th>Zip</th>\n",
       "      <th>Bank</th>\n",
       "      <th>BankState</th>\n",
       "      <th>NAICS</th>\n",
       "      <th>ApprovalDate</th>\n",
       "      <th>ApprovalFY</th>\n",
       "      <th>Term</th>\n",
       "      <th>...</th>\n",
       "      <th>UrbanRural</th>\n",
       "      <th>RevLineCr</th>\n",
       "      <th>LowDoc</th>\n",
       "      <th>MIS_Status</th>\n",
       "      <th>GrAppv</th>\n",
       "      <th>SBA_Appv</th>\n",
       "      <th>Zip2</th>\n",
       "      <th>NAICS2</th>\n",
       "      <th>Franchised</th>\n",
       "      <th>RealEstate</th>\n",
       "    </tr>\n",
       "  </thead>\n",
       "  <tbody>\n",
       "  </tbody>\n",
       "</table>\n",
       "<p>0 rows × 25 columns</p>\n",
       "</div>"
      ],
      "text/plain": [
       "Empty DataFrame\n",
       "Columns: [Name, City, State, Zip, Bank, BankState, NAICS, ApprovalDate, ApprovalFY, Term, NoEmp, NewExist, CreateJob, RetainedJob, FranchiseCode, UrbanRural, RevLineCr, LowDoc, MIS_Status, GrAppv, SBA_Appv, Zip2, NAICS2, Franchised, RealEstate]\n",
       "Index: []\n",
       "\n",
       "[0 rows x 25 columns]"
      ]
     },
     "metadata": {},
     "output_type": "display_data"
    }
   ],
   "source": [
    "naics_subset = data[data[\"NAICS\"] == 0]\n",
    "display(naics_subset)"
   ]
  },
  {
   "cell_type": "code",
   "execution_count": 23,
   "metadata": {},
   "outputs": [
    {
     "name": "stderr",
     "output_type": "stream",
     "text": [
      "/var/folders/2d/rl2wdlyn7t93k68_f2b6tmzw0000gn/T/ipykernel_8478/3584019428.py:1: DtypeWarning: Columns (9) have mixed types. Specify dtype option on import or set low_memory=False.\n",
      "  data_orignel = pd.read_csv(\"datasets/SBAnational.csv\")\n"
     ]
    }
   ],
   "source": [
    "data_orignel = pd.read_csv(\"datasets/SBAnational.csv\")"
   ]
  },
  {
   "cell_type": "markdown",
   "metadata": {},
   "source": [
    "On se rend compte que dans la feature RevLineCr certaine valeurs étaient à 'T'. Ceci vient d'une faute de frappe car le 'T' se trouve a cote du 'Y' sur les claviers. \n",
    "On a donc remplacé les 'T' par des 'Y'"
   ]
  },
  {
   "cell_type": "code",
   "execution_count": 24,
   "metadata": {},
   "outputs": [
    {
     "name": "stdout",
     "output_type": "stream",
     "text": [
      "15284.0\n"
     ]
    }
   ],
   "source": [
    "nombre_de_T = data_orignel[\"RevLineCr\"].str.count('T').sum()\n",
    "print(nombre_de_T)\n"
   ]
  },
  {
   "cell_type": "markdown",
   "metadata": {},
   "source": [
    "La feature NAICS est composé de nombre. Or seul les deux premiers chiffre du NAICS correspond à un secteur d'activité. Nous avons donc créer une feature NAICS2 qui ne comprends que ces valeur."
   ]
  },
  {
   "cell_type": "code",
   "execution_count": 26,
   "metadata": {},
   "outputs": [
    {
     "data": {
      "image/png": "[encoded data removed]",
      "text/plain": [
       "<Figure size 1000x600 with 1 Axes>"
      ]
     },
     "metadata": {},
     "output_type": "display_data"
    }
   ],
   "source": [
    "import matplotlib.pyplot as plt\n",
    "\n",
    "# Compter le nombre d'occurrences de chaque valeur dans la colonne 'NAICS'\n",
    "counts = data['NAICS2'].value_counts()\n",
    "\n",
    "# Créer le graphe\n",
    "plt.figure(figsize=(10, 6))\n",
    "counts.plot(kind='bar')\n",
    "plt.title('Nombre d\\'occurrences par valeur de NAICS2')\n",
    "plt.xlabel('NAICS')\n",
    "plt.ylabel('Nombre d\\'occurrences')\n",
    "plt.xticks(rotation=45)\n",
    "plt.show()"
   ]
  },
  {
   "cell_type": "markdown",
   "metadata": {},
   "source": [
    "On voit sur le graphe suivant, que plus l'entreprise fait un prêt sur du long therme, plus il y a de chance que le prêt soit remboursé."
   ]
  },
  {
   "cell_type": "code",
   "execution_count": 45,
   "metadata": {},
   "outputs": [
    {
     "data": {
      "image/png": "[encoded data removed]",
      "text/plain": [
       "<Figure size 1000x600 with 1 Axes>"
      ]
     },
     "metadata": {},
     "output_type": "display_data"
    }
   ],
   "source": [
    "import matplotlib.pyplot as plt\n",
    "\n",
    "# Diviser les données en fonction de MIS_Status\n",
    "mis_0 = data[data['MIS_Status'] == 0]\n",
    "mis_1 = data[data['MIS_Status'] == 1]\n",
    "\n",
    "# Créer le graphe\n",
    "plt.figure(figsize=(10, 6))\n",
    "\n",
    "# Afficher l'histogramme de Term pour MIS_Status = 0 en rouge\n",
    "plt.hist(mis_0['Term'], bins=10, color='red', alpha=0.5, label='MIS_Status = Non remboursé')\n",
    "\n",
    "# Afficher l'histogramme de Term pour MIS_Status = 1 en bleu\n",
    "plt.hist(mis_1['Term'], bins=10, color='blue', alpha=0.5, label='MIS_Status = Remboursé')\n",
    "\n",
    "plt.title('Distribution de Term avec MIS_Status')\n",
    "plt.xlabel('Term')\n",
    "plt.ylabel('Fréquence')\n",
    "plt.legend()\n",
    "plt.grid(True)\n",
    "plt.show()\n"
   ]
  }
 ],
 "metadata": {
  "kernelspec": {
   "display_name": ".venv",
   "language": "python",
   "name": "python3"
  },
  "language_info": {
   "codemirror_mode": {
    "name": "ipython",
    "version": 3
   },
   "file_extension": ".py",
   "mimetype": "text/x-python",
   "name": "python",
   "nbconvert_exporter": "python",
   "pygments_lexer": "ipython3",
   "version": "3.10.13"
  }
 },
 "nbformat": 4,
 "nbformat_minor": 2
}
