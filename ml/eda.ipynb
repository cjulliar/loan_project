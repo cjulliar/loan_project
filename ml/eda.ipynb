{
 "cells": [
  {
   "cell_type": "markdown",
   "metadata": {},
   "source": [
    "# Exploration des données"
   ]
  },
  {
   "cell_type": "markdown",
   "metadata": {},
   "source": [
    "## Importation librairies et dataset"
   ]
  },
  {
   "cell_type": "code",
   "execution_count": 5,
   "metadata": {},
   "outputs": [],
   "source": [
    "import numpy as np\n",
    "import pandas as pd\n",
    "import pickle\n",
    "import sweetviz as sv"
   ]
  },
  {
   "cell_type": "code",
   "execution_count": 6,
   "metadata": {},
   "outputs": [],
   "source": [
    "data_lg = pd.read_pickle(\"datasets/dataset.pkl\")\n",
    "data_sm = pd.read_pickle(\"datasets/dataset_withoutBadValues.pkl\")"
   ]
  },
  {
   "cell_type": "code",
   "execution_count": 7,
   "metadata": {},
   "outputs": [
    {
     "name": "stdout",
     "output_type": "stream",
     "text": [
      "<class 'pandas.core.frame.DataFrame'>\n",
      "Index: 473218 entries, 0 to 899161\n",
      "Data columns (total 25 columns):\n",
      " #   Column         Non-Null Count   Dtype         \n",
      "---  ------         --------------   -----         \n",
      " 0   Name           473218 non-null  object        \n",
      " 1   City           473218 non-null  object        \n",
      " 2   State          473218 non-null  category      \n",
      " 3   Zip            473218 non-null  object        \n",
      " 4   Bank           473218 non-null  object        \n",
      " 5   BankState      473218 non-null  category      \n",
      " 6   NAICS          473218 non-null  object        \n",
      " 7   ApprovalDate   473218 non-null  datetime64[ns]\n",
      " 8   ApprovalFY     473218 non-null  category      \n",
      " 9   Term           473218 non-null  int64         \n",
      " 10  NoEmp          473218 non-null  int64         \n",
      " 11  NewExist       473218 non-null  category      \n",
      " 12  CreateJob      473218 non-null  int64         \n",
      " 13  RetainedJob    473218 non-null  int64         \n",
      " 14  FranchiseCode  473218 non-null  object        \n",
      " 15  UrbanRural     473218 non-null  category      \n",
      " 16  RevLineCr      473218 non-null  category      \n",
      " 17  LowDoc         473218 non-null  category      \n",
      " 18  MIS_Status     473218 non-null  int64         \n",
      " 19  GrAppv         473218 non-null  int64         \n",
      " 20  SBA_Appv       473218 non-null  int64         \n",
      " 21  Zip2           473218 non-null  category      \n",
      " 22  NAICS2         473218 non-null  category      \n",
      " 23  Franchised     473218 non-null  category      \n",
      " 24  RealEstate     473218 non-null  category      \n",
      "dtypes: category(11), datetime64[ns](1), int64(7), object(6)\n",
      "memory usage: 59.1+ MB\n"
     ]
    }
   ],
   "source": [
    "data = data_sm\n",
    "data.info()"
   ]
  },
  {
   "cell_type": "code",
   "execution_count": 11,
   "metadata": {},
   "outputs": [
    {
     "data": {
      "text/plain": [
       "'Name'"
      ]
     },
     "metadata": {},
     "output_type": "display_data"
    },
    {
     "data": {
      "text/plain": [
       "array(['ABC HOBBYCRAFT', 'LANDMARK BAR & GRILLE (THE)',\n",
       "       'WHITLOCK DDS, TODD M.', ..., 'PULLTARPS MFG.', 'FABRIC FARMS',\n",
       "       'RADCO MANUFACTURING CO.,INC.'], dtype=object)"
      ]
     },
     "metadata": {},
     "output_type": "display_data"
    },
    {
     "data": {
      "text/plain": [
       "'City'"
      ]
     },
     "metadata": {},
     "output_type": "display_data"
    },
    {
     "data": {
      "text/plain": [
       "array(['EVANSVILLE', 'NEW PARIS', 'BLOOMINGTON', ..., 'BARATARIA',\n",
       "       'FRITCH', 'ELLICOTT'], dtype=object)"
      ]
     },
     "metadata": {},
     "output_type": "display_data"
    },
    {
     "data": {
      "text/plain": [
       "'State'"
      ]
     },
     "metadata": {},
     "output_type": "display_data"
    },
    {
     "data": {
      "text/plain": [
       "['IN', 'CT', 'FL', 'NC', 'IL', ..., 'WV', 'SD', 'DE', 'DC', 'HI']\n",
       "Length: 51\n",
       "Categories (51, object): ['AK', 'AL', 'AR', 'AZ', ..., 'WA', 'WI', 'WV', 'WY']"
      ]
     },
     "metadata": {},
     "output_type": "display_data"
    },
    {
     "data": {
      "text/plain": [
       "'Zip'"
      ]
     },
     "metadata": {},
     "output_type": "display_data"
    },
    {
     "data": {
      "text/plain": [
       "array([47711, 46526, 47401, ..., 66549, 97865, 79036], dtype=object)"
      ]
     },
     "metadata": {},
     "output_type": "display_data"
    },
    {
     "data": {
      "text/plain": [
       "'Bank'"
      ]
     },
     "metadata": {},
     "output_type": "display_data"
    },
    {
     "data": {
      "text/plain": [
       "array(['FIFTH THIRD BANK', '1ST SOURCE BANK', 'GRANT COUNTY STATE BANK',\n",
       "       ..., 'MAHOPAC BANK', 'FIRST NATIONAL BANK OF GILBERT',\n",
       "       'EXCHANGE BANK OF MISSOURI'], dtype=object)"
      ]
     },
     "metadata": {},
     "output_type": "display_data"
    },
    {
     "data": {
      "text/plain": [
       "'BankState'"
      ]
     },
     "metadata": {},
     "output_type": "display_data"
    },
    {
     "data": {
      "text/plain": [
       "['OH', 'IN', 'DE', 'AL', 'FL', ..., 'AK', 'DC', 'PR', 'GU', 'AN']\n",
       "Length: 54\n",
       "Categories (56, object): ['AK', 'AL', 'AN', 'AR', ..., 'WA', 'WI', 'WV', 'WY']"
      ]
     },
     "metadata": {},
     "output_type": "display_data"
    },
    {
     "data": {
      "text/plain": [
       "'NAICS'"
      ]
     },
     "metadata": {},
     "output_type": "display_data"
    },
    {
     "data": {
      "text/plain": [
       "array([451120, 722410, 621210, ..., 922140, 514110, 221121], dtype=object)"
      ]
     },
     "metadata": {},
     "output_type": "display_data"
    },
    {
     "data": {
      "text/plain": [
       "'ApprovalDate'"
      ]
     },
     "metadata": {},
     "output_type": "display_data"
    },
    {
     "data": {
      "text/plain": [
       "<DatetimeArray>\n",
       "['1997-02-28 00:00:00', '2006-02-07 00:00:00', '1997-07-21 00:00:00',\n",
       " '1998-05-26 00:00:00', '1998-05-27 00:00:00', '1998-06-01 00:00:00',\n",
       " '1998-06-02 00:00:00', '1998-06-05 00:00:00', '1998-06-12 00:00:00',\n",
       " '1998-06-15 00:00:00',\n",
       " ...\n",
       " '1997-02-13 00:00:00', '1997-02-18 00:00:00', '1997-02-14 00:00:00',\n",
       " '1997-02-19 00:00:00', '1997-02-20 00:00:00', '1997-02-21 00:00:00',\n",
       " '1997-02-24 00:00:00', '1997-02-25 00:00:00', '1997-02-26 00:00:00',\n",
       " '1997-02-27 00:00:00']\n",
       "Length: 7322, dtype: datetime64[ns]"
      ]
     },
     "metadata": {},
     "output_type": "display_data"
    },
    {
     "data": {
      "text/plain": [
       "'ApprovalFY'"
      ]
     },
     "metadata": {},
     "output_type": "display_data"
    },
    {
     "data": {
      "text/plain": [
       "['1997', '2006', '1998', '1999', '2000', ..., '2013', '1994', '2014', '1995', '1996']\n",
       "Length: 29\n",
       "Categories (48, object): ['1966', '1968', '1969', '1970', ..., '2011', '2012', '2013', '2014']"
      ]
     },
     "metadata": {},
     "output_type": "display_data"
    },
    {
     "data": {
      "text/plain": [
       "'Term'"
      ]
     },
     "metadata": {},
     "output_type": "display_data"
    },
    {
     "data": {
      "text/plain": [
       "array([ 84,  60, 180, 120, 297, 162,  12,  87, 126,  83, 240, 102,  80,\n",
       "        42,  26,  36,  54,  66,  96,  93,  27,  82,  32, 112,  73, 255,\n",
       "        55, 133,  35,   5,  62,  72,   6,  57,  46,  70,  52,  48,  65,\n",
       "        47,  58,   1,  74,  16,   7,   4,  63,  56,  10,  22,   0,  40,\n",
       "         3,  23, 300,  11,  17,  21,  43,  91,  89,   2,  34,  14,   9,\n",
       "        78,  18, 129,  97,   8,  29,  30,  39,  24,  13,  15, 119, 228,\n",
       "        59, 208,  44,  81,  85,  77,  38,  69,  51, 144,  64, 111,  90,\n",
       "        75, 306,  28, 183, 117, 118,  71,  49, 108, 116,  76, 113, 191,\n",
       "        19,  61,  45,  99,  25,  98, 166, 114,  94,  95, 231,  33, 157,\n",
       "       165,  41,  50, 309, 106,  20, 229, 204,  31, 276, 115,  53, 174,\n",
       "        37,  68,  79, 100, 131, 123,  67, 122, 268, 294, 238, 246, 124,\n",
       "       186,  92,  86, 192, 128, 147, 280, 318, 264, 101, 121, 216, 278,\n",
       "       107,  88, 283, 104, 187, 103, 136, 288, 175, 139, 110, 241, 156,\n",
       "       303, 177, 273, 132, 189, 222, 164, 301, 196, 155, 243, 252, 135,\n",
       "       185, 168, 149, 261, 181, 146, 150, 109, 349, 206, 145, 152, 207,\n",
       "       176, 285, 169, 137, 195, 127, 125, 163, 304, 210, 143, 160, 105,\n",
       "       217, 140, 236, 282, 167, 159, 153, 148, 237, 312, 199, 182, 154,\n",
       "       230, 203, 219, 184, 263, 248, 178, 188, 258, 130, 225, 215, 202,\n",
       "       194, 279, 270, 161, 151, 134, 142, 250, 179, 295, 242, 274, 224,\n",
       "       266, 239, 173, 212, 302, 256, 201, 265, 172, 234, 205, 311, 249,\n",
       "       299, 190, 245, 138, 223, 213, 244, 290, 197, 334, 171, 200, 291,\n",
       "       340, 218, 170, 275, 226, 269, 198, 284, 281, 247, 220, 227, 209,\n",
       "       262, 232, 260, 253, 360, 141, 233, 214, 257, 221, 271, 272, 259,\n",
       "       305, 254, 235, 320, 298, 251, 277, 158, 321, 286, 267, 292, 289,\n",
       "       296, 287, 211, 330, 193, 307, 365, 324, 319, 336, 329, 308, 310,\n",
       "       293, 313, 350, 335, 314, 369, 357, 355, 362, 322, 359, 358, 341,\n",
       "       323, 315, 326, 333, 372, 348, 356, 396, 382, 385, 367, 374, 354,\n",
       "       353, 527, 370, 327, 366, 325, 339, 317, 428, 346, 388, 386, 409,\n",
       "       445, 316, 449, 389, 434, 328, 423, 440, 347, 391])"
      ]
     },
     "metadata": {},
     "output_type": "display_data"
    },
    {
     "data": {
      "text/plain": [
       "'NoEmp'"
      ]
     },
     "metadata": {},
     "output_type": "display_data"
    },
    {
     "data": {
      "text/plain": [
       "array([   4,    2,    7,   19,    1,   24,    5,   18,   12,    3,   20,\n",
       "          6,    8,   50,   60,   55,   32,   10,   22,  214,   14,    9,\n",
       "         28,   11,   40,   30,   16,  112,   15,   23,   17,   65,   25,\n",
       "         45,   97,   46,   13,   31,  126,   58,   38,    0,   75,   36,\n",
       "         35,   66,   27, 2000,   34,   26,   93,   85,  150,   29,   41,\n",
       "        100,   54,   21,  300,   49,  120,   33,  265,  160,   70,   68,\n",
       "         48,   61,  220,   39,   71,   43,   44,   78,  233,  263,   80,\n",
       "         63,  210,  450,   86,  165, 9992,  424,   51,  190,   52,   47,\n",
       "         42,   74,  250,   69,   37,   90,  140,  260,  339,   87,   73,\n",
       "        110,  161,   62,   59,  105,  116,   53,   88,  400,   67,  605,\n",
       "         57,   95,  130,   81,   82,   64,   94,  144,  155,   98,   56,\n",
       "         77,  108,  138,  125,  117,  118,  171,  170,  145,  115,  119,\n",
       "        900,  180,   79,  200,  128,   91,  600,  576,  196,  135,  121,\n",
       "        101,   96,  350,  129,  141,  142,   72,  320,   84,  162, 4000,\n",
       "        104,  230, 8000,  111, 5511,   92,  148,  231, 5084,  175,  500,\n",
       "       2100, 5947,  368, 5000, 1500,  221,   76,  123,  122,  163,  103,\n",
       "        275,  102,  761,  146,  421,  195,  106,  143,   99,  305,  187,\n",
       "        238,  235,  330,   83,  147,  317,  132,  156,  425,  114,  109,\n",
       "         89,  430, 1000,  256, 3200,  179,  362,  107,  202,  289,  316,\n",
       "        149,  124,  152,  395,  151,  137,  153,  550,  205, 4100,  113,\n",
       "        172,  520,  131,  270, 1250, 1200,  390, 4847,  183,  225,  192,\n",
       "        240,  274,  408,  441,  246,  216,  185,  227,  176,  735,  523,\n",
       "       1711,  154,  351,  249,  207,  312,  365,  360, 1550,  544,  157,\n",
       "       9000,  206,  285,  127,  211,  198, 4005,  189,  241,  203,  318,\n",
       "       1600,  288,  194, 7000,  213, 6000, 1800,  355,  281,  308,  215,\n",
       "        181,  521,  218,  800,  700,  307,  280,  242, 2200,  750, 2500,\n",
       "        169,  255,  173,  199,  174,  358,  191,  243, 3000,  354,  315,\n",
       "        435,  375,  342,  310,  193,  232,  136,  188,  261, 1629,  158,\n",
       "        133,  325, 1700,  429,  226, 2010,  660,  164,  254,  376,  204,\n",
       "        464,  245,  247,  182,  197,  370,  134,  178,  604,  456,  295,\n",
       "        166,  168,  332,  985, 1502,  139,  208,  284,  259,  224, 1300,\n",
       "        167,  323,  251,  740,  396,  229,  328,  442,  217,  447,  257,\n",
       "        427,  407,  277,  290,  236,  356, 4685,  625,  177,  223,  420,\n",
       "        363,  222,  228,  340,  267,  209,  262,  234, 2121,  712,  271,\n",
       "        237,  258,  377,  560,  404,  302, 3737,  319, 2120,  387,  585,\n",
       "        292,  505,  346, 3030,  301, 9999, 2300, 3600, 3500,  159,  525,\n",
       "        253, 1900, 1440,  186,  413,  475, 5680,  244, 1100, 4501, 4800,\n",
       "       3100, 3334,  329, 1603, 1520, 2202,  201, 1012,  480,  465, 2510,\n",
       "       1003, 4300,  498,  530,  380,  314, 1940, 1960,  348, 1020,  405,\n",
       "        212,  858, 1542, 1920,  273])"
      ]
     },
     "metadata": {},
     "output_type": "display_data"
    },
    {
     "data": {
      "text/plain": [
       "'NewExist'"
      ]
     },
     "metadata": {},
     "output_type": "display_data"
    },
    {
     "data": {
      "text/plain": [
       "['2', '1']\n",
       "Categories (3, object): ['0', '1', '2']"
      ]
     },
     "metadata": {},
     "output_type": "display_data"
    },
    {
     "data": {
      "text/plain": [
       "'CreateJob'"
      ]
     },
     "metadata": {},
     "output_type": "display_data"
    },
    {
     "data": {
      "text/plain": [
       "array([   0,    5,    4,    1,    8,   15,    3,   11,    2,   10,    7,\n",
       "         25,    6,   20,   12,    9,   47,   30,   23,   13,   43,   22,\n",
       "         18,   21,   14,   82,   80,   70,   19,   33,   27,  150,   38,\n",
       "         97,   32,   17,   16,   40,   34,   36,   50,   28,   24,   35,\n",
       "        200,   26,   90,   60,   77,   75,   31,  100,   55,   45,   99,\n",
       "         48,   29,  120,   69,   95,   42,  160,   37,  600, 1000,   44,\n",
       "         39,   49,   54,   85,   59,  450,  456,   72,  452,   53,  451,\n",
       "        198,   79,  454,  136,   63,   98,  455,   76,  152,   41,  225,\n",
       "        110,  453,  458,  457,  174,   46,   64,  320,  154,  300,   58,\n",
       "        149,   78,   65,  180,  153,  800,  137,  500,   57,  360,   56,\n",
       "        122, 1200,   66,  112,  118,   73,  151,  195,   67,  138,  125,\n",
       "         84,  124, 1711,  131, 1618, 1150,  115,  157,  166,  135,  140,\n",
       "        210,  252,   61,  116,  102,   74,   71,   62,  129,  105,   52,\n",
       "        144,   81,  179,  171,  141,  126,   92,   68,  101,  119,  123,\n",
       "        128,   51,  114,  220,  221,   88,  186,   83,  750,  139,  375,\n",
       "        109,  130,  264, 3000,  240, 5621,  121,  167,   89,  175,  165,\n",
       "        222,  106,  363,  250, 1118,  170,  164, 5085,   96,   86,  365,\n",
       "        400,  397,   94, 1016,   87])"
      ]
     },
     "metadata": {},
     "output_type": "display_data"
    },
    {
     "data": {
      "text/plain": [
       "'RetainedJob'"
      ]
     },
     "metadata": {},
     "output_type": "display_data"
    },
    {
     "data": {
      "text/plain": [
       "array([   0,   23,    4,    6,    2,    5,   19,    8,   10,   24,    1,\n",
       "          3,    7,   15,   12,   11,   17,   14,   20,    9,   28,   38,\n",
       "         26,   13,   50,   93,   40,   18,   21,   35,  150,   25,   45,\n",
       "         16,  180,  165,   27,   22,   46,   34,   32,  257,   43,   47,\n",
       "         80,   70,   62,   33,  400,   37,   30,   31,   55,   60,   36,\n",
       "         95,   48,   65,  120,   29,   71,  130,   81,   52,   94,   58,\n",
       "         78,  160,  109,  100,   75,  155,   39,   85,   44,   90,   54,\n",
       "         64,   41,   61,   69,   66,  210,  107,   97,   51,   42,   83,\n",
       "         63,  112,   53,   77,   76,   87,   68,  118,  138,   67,  125,\n",
       "         57,   56,  117,  171,  115,  300,  140,  105,   59,   79,  206,\n",
       "        128,  250,   72,   49,  135,   92,   86,  404,  200,  110,  320,\n",
       "        139,   82,  108,   88,  104,  230,  102,   98,  101,   84,  220,\n",
       "         74,  267,   91,  175,  550,  450,  500,   73,  170,  275,  123,\n",
       "        195,  116,   99,  610,   96,  187,  235,  157,  127,  106,  254,\n",
       "       4441,  111,  317,  173,  350,   89,  143,  430,  145,  133,  256,\n",
       "       2200,  362,  202,  148,  225,  316,  154,  141,  113,  161,  172,\n",
       "        114,  330,  366, 1300,  390,  190,  240,  185,  197,  162,  523,\n",
       "       1711,  147,  251,  152,  417,  207,  291,  153,  131,  103,  544,\n",
       "        129,  189,  203,  360,  194,  126,  213,  260,  177,  281,  675,\n",
       "        700,  247,  600,  245,  750,  151,  205,  121,  191,  342,  124,\n",
       "        232,  136,  215,  285,  188, 1700,  146,  122,  134,  660,  156,\n",
       "        214,  370,  318,  137,  208,  515,  259,  159,  375,  328,  263,\n",
       "        497,  280,  310,  356,  255,  192,  158,  166,  219,  363,  274,\n",
       "        262,  119,  178,  585,  167,  710,  420,  237,  212,  940,  302,\n",
       "        394,  244,  297,  485,  270,  800,  387,  480,  315,  498,  911,\n",
       "        229,  198])"
      ]
     },
     "metadata": {},
     "output_type": "display_data"
    },
    {
     "data": {
      "text/plain": [
       "'FranchiseCode'"
      ]
     },
     "metadata": {},
     "output_type": "display_data"
    },
    {
     "data": {
      "text/plain": [
       "array([1, 15100, 10656, ..., 16452, 75985, 42533], dtype=object)"
      ]
     },
     "metadata": {},
     "output_type": "display_data"
    },
    {
     "data": {
      "text/plain": [
       "'UrbanRural'"
      ]
     },
     "metadata": {},
     "output_type": "display_data"
    },
    {
     "data": {
      "text/plain": [
       "[0, 1, 2]\n",
       "Categories (3, int64): [0, 1, 2]"
      ]
     },
     "metadata": {},
     "output_type": "display_data"
    },
    {
     "data": {
      "text/plain": [
       "'RevLineCr'"
      ]
     },
     "metadata": {},
     "output_type": "display_data"
    },
    {
     "data": {
      "text/plain": [
       "['N', 'Y']\n",
       "Categories (3, object): ['0', 'N', 'Y']"
      ]
     },
     "metadata": {},
     "output_type": "display_data"
    },
    {
     "data": {
      "text/plain": [
       "'LowDoc'"
      ]
     },
     "metadata": {},
     "output_type": "display_data"
    },
    {
     "data": {
      "text/plain": [
       "['Y', 'N']\n",
       "Categories (3, object): ['0', 'N', 'Y']"
      ]
     },
     "metadata": {},
     "output_type": "display_data"
    },
    {
     "data": {
      "text/plain": [
       "'MIS_Status'"
      ]
     },
     "metadata": {},
     "output_type": "display_data"
    },
    {
     "data": {
      "text/plain": [
       "array([1, 0])"
      ]
     },
     "metadata": {},
     "output_type": "display_data"
    },
    {
     "data": {
      "text/plain": [
       "'GrAppv'"
      ]
     },
     "metadata": {},
     "output_type": "display_data"
    },
    {
     "data": {
      "text/plain": [
       "array([ 60000,  40000, 287000, ...,  20686,  45720, 279145])"
      ]
     },
     "metadata": {},
     "output_type": "display_data"
    },
    {
     "data": {
      "text/plain": [
       "'SBA_Appv'"
      ]
     },
     "metadata": {},
     "output_type": "display_data"
    },
    {
     "data": {
      "text/plain": [
       "array([ 48000,  32000, 215250, ...,  36576, 209358, 430976])"
      ]
     },
     "metadata": {},
     "output_type": "display_data"
    },
    {
     "data": {
      "text/plain": [
       "'Zip2'"
      ]
     },
     "metadata": {},
     "output_type": "display_data"
    },
    {
     "data": {
      "text/plain": [
       "['47', '46', '60', '34', '32', ..., '7', '8', '5', '3', '6']\n",
       "Length: 99\n",
       "Categories (100, object): ['0', '1', '10', '11', ..., '96', '97', '98', '99']"
      ]
     },
     "metadata": {},
     "output_type": "display_data"
    },
    {
     "data": {
      "text/plain": [
       "'NAICS2'"
      ]
     },
     "metadata": {},
     "output_type": "display_data"
    },
    {
     "data": {
      "text/plain": [
       "['45', '72', '62', '33', '81', ..., '92', '22', '49', '55', '21']\n",
       "Length: 24\n",
       "Categories (25, object): ['0', '11', '21', '22', ..., '71', '72', '81', '92']"
      ]
     },
     "metadata": {},
     "output_type": "display_data"
    },
    {
     "data": {
      "text/plain": [
       "'Franchised'"
      ]
     },
     "metadata": {},
     "output_type": "display_data"
    },
    {
     "data": {
      "text/plain": [
       "[0, 1]\n",
       "Categories (2, int64): [0, 1]"
      ]
     },
     "metadata": {},
     "output_type": "display_data"
    },
    {
     "data": {
      "text/plain": [
       "'RealEstate'"
      ]
     },
     "metadata": {},
     "output_type": "display_data"
    },
    {
     "data": {
      "text/plain": [
       "[0, 1]\n",
       "Categories (2, int64): [0, 1]"
      ]
     },
     "metadata": {},
     "output_type": "display_data"
    }
   ],
   "source": [
    "for col in data.columns:\n",
    "    display(col)\n",
    "    display(data[col].unique())"
   ]
  },
  {
   "cell_type": "markdown",
   "metadata": {},
   "source": [
    "## Description des features"
   ]
  },
  {
   "cell_type": "markdown",
   "metadata": {},
   "source": [
    "| Colonne        | Type de données   | Modalités                 | Exemple de Données | Description                                       |\n",
    "|----------------|-------------------|---------------------------|--------------------|---------------------------------------------------|\n",
    "| Name           | Object            | N/A                       | \"Entreprise A\"     | Nom de l'entreprise souhaitant réaliser le prêt   |\n",
    "| City           | Object            | N/A                       | \"New York\"         | Ville où se l'entreprise                          |\n",
    "| State          | Category          | \"NY\", \"CA\" ...            | \"NY\"               | État où se situe l'entreprise (abréviations en deux lettres)|\n",
    "| Zip            | Object            | N/A                       | 10001              | Code postal de l'entreprise                       |\n",
    "| Bank           | Object            | N/A                       | \"ABC Bank\"         | Nom de la banque accordant le prêt                |\n",
    "| BankState      | Category          | \"NY\", \"CA\"...             | \"NY\"               | État où se situe la banque (abréviations en deux lettres)|\n",
    "| NAICS          | Object            | N/A                       | 722410             | Code du secteur d'activité de l'entreprise        |\n",
    "| ApprovalDate   | Datetime64[ns]    | N/A                       | 2023-05-12         | Date à laquelle le prêt a été approuvé            |\n",
    "| ApprovalFY     | Category          | \"1970\", \"1971\" ..         | \"2023\"             | Année fiscale du prêt                             |\n",
    "| Term           | Int64             | N/A                       | 60                 | Durée du prêt en mois                             |\n",
    "| NoEmp          | Int64             | N/A                       | 10                 | Nombre d'employés de l'entreprise                 |\n",
    "| NewExist       | Category          | \"New\", \"Existing\"         | \"Existing\"         | Indication si l'entreprise est nouvelle ou existante|\n",
    "| CreateJob      | Int64             | N/A                       | 5                  | Nombre d'emplois créés par le prêt                |\n",
    "| RetainedJob    | Int64             | N/A                       | 8                  | Nombre d'emplois conservés grâce au prêt          |\n",
    "| FranchiseCode  | Object            | 0, 11500, 12564 ...       | 0                  | Code indiquant si l'entreprise est une franchise  |\n",
    "| UrbanRural     | Category          | \"Urban\", \"Rural\",         | Urban              | Type d'environnement où se situe l'entreprise     |\n",
    "| RevLineCr      | Category          | \"Y\", \"N\"                  | Y                  | Indication sur si une ligne de crédit rotatif est disponible |\n",
    "| LowDoc         | Category          | \"Y\", \"N\"                  | N                  | Indication sur si le prêt est de faible documentation |\n",
    "| MIS_Status     | Int64             | N/A                       | 1                  | Statut du prêt                                    |\n",
    "| GrAppv         | Int64             | N/A                       | 150000             | Montant total approuvé pour le prêt               |\n",
    "| SBA_Appv       | Int64             | N/A                       | 75000              | Montant approuvé par la Small Business Administration pour le prêt |\n",
    "| Zip2           | Category          | \"10\", \"20\", \"30\", ...     | 10                 | Code postal de l'entité (représenté en catégorie) |\n",
    "| NAICS2         | Category          | \"120000\", \"130000\"        | 120000             | Code du secteur d'activité de l'entité (représenté en catégorie) |\n",
    "| Franchised     | Category          | \"Yes\", \"No\"               | No                 | Indication sur si l'entité est une franchise      |\n",
    "| RealEstate     | Category          | \"Yes\", \"No\"               | Yes                | Indication sur si le prêt est lié à l'immobilier  |\n",
    "\n"
   ]
  },
  {
   "cell_type": "markdown",
   "metadata": {},
   "source": [
    "## Exploration avec SweetViz"
   ]
  },
  {
   "cell_type": "code",
   "execution_count": 8,
   "metadata": {},
   "outputs": [
    {
     "name": "stderr",
     "output_type": "stream",
     "text": [
      "                                             |          | [  0%]   00:00 -> (? left)"
     ]
    },
    {
     "name": "stderr",
     "output_type": "stream",
     "text": [
      "Done! Use 'show' commands to display/save.   |██████████| [100%]   00:01 -> (00:00 left)\n"
     ]
    },
    {
     "name": "stdout",
     "output_type": "stream",
     "text": [
      "Report sv-reports/report_sm.html was generated! NOTEBOOK/COLAB USERS: the web browser MAY not pop up, regardless, the report IS saved in your notebook/colab files.\n"
     ]
    }
   ],
   "source": [
    "report = sv.analyze(data, \"MIS_Status\")\n",
    "report.show_html(\"sv-reports/report_sm.html\", layout=\"vertical\")"
   ]
  },
  {
   "cell_type": "markdown",
   "metadata": {},
   "source": [
    "## Autres explorations"
   ]
  },
  {
   "cell_type": "code",
   "execution_count": 5,
   "metadata": {},
   "outputs": [
    {
     "data": {
      "text/html": [
       "<div>\n",
       "<style scoped>\n",
       "    .dataframe tbody tr th:only-of-type {\n",
       "        vertical-align: middle;\n",
       "    }\n",
       "\n",
       "    .dataframe tbody tr th {\n",
       "        vertical-align: top;\n",
       "    }\n",
       "\n",
       "    .dataframe thead th {\n",
       "        text-align: right;\n",
       "    }\n",
       "</style>\n",
       "<table border=\"1\" class=\"dataframe\">\n",
       "  <thead>\n",
       "    <tr style=\"text-align: right;\">\n",
       "      <th></th>\n",
       "      <th>Name</th>\n",
       "      <th>City</th>\n",
       "      <th>State</th>\n",
       "      <th>Zip</th>\n",
       "      <th>Bank</th>\n",
       "      <th>BankState</th>\n",
       "      <th>NAICS</th>\n",
       "      <th>ApprovalDate</th>\n",
       "      <th>ApprovalFY</th>\n",
       "      <th>Term</th>\n",
       "      <th>...</th>\n",
       "      <th>UrbanRural</th>\n",
       "      <th>RevLineCr</th>\n",
       "      <th>LowDoc</th>\n",
       "      <th>MIS_Status</th>\n",
       "      <th>GrAppv</th>\n",
       "      <th>SBA_Appv</th>\n",
       "      <th>Zip_2</th>\n",
       "      <th>NAICS_2</th>\n",
       "      <th>Franchised</th>\n",
       "      <th>RealEstate</th>\n",
       "    </tr>\n",
       "  </thead>\n",
       "  <tbody>\n",
       "    <tr>\n",
       "      <th>24</th>\n",
       "      <td>SUBWAY</td>\n",
       "      <td>LITTLE ROCK</td>\n",
       "      <td>AR</td>\n",
       "      <td>72223</td>\n",
       "      <td>HOPE FCU</td>\n",
       "      <td>MS</td>\n",
       "      <td>722211</td>\n",
       "      <td>2006-02-07</td>\n",
       "      <td>2006</td>\n",
       "      <td>126</td>\n",
       "      <td>...</td>\n",
       "      <td>1</td>\n",
       "      <td>N</td>\n",
       "      <td>N</td>\n",
       "      <td>1</td>\n",
       "      <td>137300</td>\n",
       "      <td>116705</td>\n",
       "      <td>72</td>\n",
       "      <td>72</td>\n",
       "      <td>0</td>\n",
       "      <td>0</td>\n",
       "    </tr>\n",
       "    <tr>\n",
       "      <th>3156</th>\n",
       "      <td>SUBWAY</td>\n",
       "      <td>GLEN MILLS</td>\n",
       "      <td>PA</td>\n",
       "      <td>19342</td>\n",
       "      <td>PNC BANK, NATIONAL ASSOCIATION</td>\n",
       "      <td>DE</td>\n",
       "      <td>722211</td>\n",
       "      <td>2006-02-10</td>\n",
       "      <td>2006</td>\n",
       "      <td>72</td>\n",
       "      <td>...</td>\n",
       "      <td>1</td>\n",
       "      <td>0</td>\n",
       "      <td>N</td>\n",
       "      <td>1</td>\n",
       "      <td>50000</td>\n",
       "      <td>25000</td>\n",
       "      <td>19</td>\n",
       "      <td>72</td>\n",
       "      <td>0</td>\n",
       "      <td>0</td>\n",
       "    </tr>\n",
       "    <tr>\n",
       "      <th>7461</th>\n",
       "      <td>SUBWAY</td>\n",
       "      <td>MANCHESTER</td>\n",
       "      <td>ME</td>\n",
       "      <td>4351</td>\n",
       "      <td>BANGOR SAVINGS BANK</td>\n",
       "      <td>ME</td>\n",
       "      <td>722211</td>\n",
       "      <td>2006-02-16</td>\n",
       "      <td>2006</td>\n",
       "      <td>84</td>\n",
       "      <td>...</td>\n",
       "      <td>1</td>\n",
       "      <td>0</td>\n",
       "      <td>N</td>\n",
       "      <td>1</td>\n",
       "      <td>102000</td>\n",
       "      <td>86700</td>\n",
       "      <td>43</td>\n",
       "      <td>72</td>\n",
       "      <td>1</td>\n",
       "      <td>0</td>\n",
       "    </tr>\n",
       "    <tr>\n",
       "      <th>8287</th>\n",
       "      <td>SUBWAY</td>\n",
       "      <td>NORWICH</td>\n",
       "      <td>CT</td>\n",
       "      <td>6360</td>\n",
       "      <td>BANK OF AMERICA NATL ASSOC</td>\n",
       "      <td>RI</td>\n",
       "      <td>722211</td>\n",
       "      <td>2004-09-08</td>\n",
       "      <td>2004</td>\n",
       "      <td>36</td>\n",
       "      <td>...</td>\n",
       "      <td>1</td>\n",
       "      <td>Y</td>\n",
       "      <td>N</td>\n",
       "      <td>1</td>\n",
       "      <td>47000</td>\n",
       "      <td>23500</td>\n",
       "      <td>63</td>\n",
       "      <td>72</td>\n",
       "      <td>1</td>\n",
       "      <td>0</td>\n",
       "    </tr>\n",
       "    <tr>\n",
       "      <th>10198</th>\n",
       "      <td>SUBWAY</td>\n",
       "      <td>ATHENS</td>\n",
       "      <td>TX</td>\n",
       "      <td>75751</td>\n",
       "      <td>COMMUNITY NATL BK &amp; TR OF TEXA</td>\n",
       "      <td>TX</td>\n",
       "      <td>0</td>\n",
       "      <td>1997-04-01</td>\n",
       "      <td>1997</td>\n",
       "      <td>84</td>\n",
       "      <td>...</td>\n",
       "      <td>0</td>\n",
       "      <td>N</td>\n",
       "      <td>Y</td>\n",
       "      <td>1</td>\n",
       "      <td>77600</td>\n",
       "      <td>62080</td>\n",
       "      <td>75</td>\n",
       "      <td>0</td>\n",
       "      <td>0</td>\n",
       "      <td>0</td>\n",
       "    </tr>\n",
       "  </tbody>\n",
       "</table>\n",
       "<p>5 rows × 25 columns</p>\n",
       "</div>"
      ],
      "text/plain": [
       "         Name         City State    Zip                            Bank  \\\n",
       "24     SUBWAY  LITTLE ROCK    AR  72223                        HOPE FCU   \n",
       "3156   SUBWAY   GLEN MILLS    PA  19342  PNC BANK, NATIONAL ASSOCIATION   \n",
       "7461   SUBWAY   MANCHESTER    ME   4351             BANGOR SAVINGS BANK   \n",
       "8287   SUBWAY      NORWICH    CT   6360      BANK OF AMERICA NATL ASSOC   \n",
       "10198  SUBWAY       ATHENS    TX  75751  COMMUNITY NATL BK & TR OF TEXA   \n",
       "\n",
       "      BankState   NAICS ApprovalDate ApprovalFY  Term  ...  UrbanRural  \\\n",
       "24           MS  722211   2006-02-07       2006   126  ...           1   \n",
       "3156         DE  722211   2006-02-10       2006    72  ...           1   \n",
       "7461         ME  722211   2006-02-16       2006    84  ...           1   \n",
       "8287         RI  722211   2004-09-08       2004    36  ...           1   \n",
       "10198        TX       0   1997-04-01       1997    84  ...           0   \n",
       "\n",
       "      RevLineCr  LowDoc  MIS_Status  GrAppv SBA_Appv Zip_2 NAICS_2  \\\n",
       "24            N       N           1  137300   116705    72      72   \n",
       "3156          0       N           1   50000    25000    19      72   \n",
       "7461          0       N           1  102000    86700    43      72   \n",
       "8287          Y       N           1   47000    23500    63      72   \n",
       "10198         N       Y           1   77600    62080    75       0   \n",
       "\n",
       "       Franchised  RealEstate  \n",
       "24              0           0  \n",
       "3156            0           0  \n",
       "7461            1           0  \n",
       "8287            1           0  \n",
       "10198           0           0  \n",
       "\n",
       "[5 rows x 25 columns]"
      ]
     },
     "metadata": {},
     "output_type": "display_data"
    },
    {
     "data": {
      "text/plain": [
       "MIS_Status\n",
       "1    1203\n",
       "0      66\n",
       "Name: count, dtype: int64"
      ]
     },
     "execution_count": 5,
     "metadata": {},
     "output_type": "execute_result"
    }
   ],
   "source": [
    "subway_subset = data[data[\"Name\"] == \"SUBWAY\"]\n",
    "\n",
    "display(subway_subset.head())\n",
    "\n",
    "subway_subset[\"MIS_Status\"].value_counts()\n"
   ]
  },
  {
   "cell_type": "code",
   "execution_count": 6,
   "metadata": {},
   "outputs": [
    {
     "data": {
      "text/html": [
       "<div>\n",
       "<style scoped>\n",
       "    .dataframe tbody tr th:only-of-type {\n",
       "        vertical-align: middle;\n",
       "    }\n",
       "\n",
       "    .dataframe tbody tr th {\n",
       "        vertical-align: top;\n",
       "    }\n",
       "\n",
       "    .dataframe thead th {\n",
       "        text-align: right;\n",
       "    }\n",
       "</style>\n",
       "<table border=\"1\" class=\"dataframe\">\n",
       "  <thead>\n",
       "    <tr style=\"text-align: right;\">\n",
       "      <th></th>\n",
       "      <th>Name</th>\n",
       "      <th>City</th>\n",
       "      <th>State</th>\n",
       "      <th>Zip</th>\n",
       "      <th>Bank</th>\n",
       "      <th>BankState</th>\n",
       "      <th>NAICS</th>\n",
       "      <th>ApprovalDate</th>\n",
       "      <th>ApprovalFY</th>\n",
       "      <th>Term</th>\n",
       "      <th>...</th>\n",
       "      <th>UrbanRural</th>\n",
       "      <th>RevLineCr</th>\n",
       "      <th>LowDoc</th>\n",
       "      <th>MIS_Status</th>\n",
       "      <th>GrAppv</th>\n",
       "      <th>SBA_Appv</th>\n",
       "      <th>Zip_2</th>\n",
       "      <th>NAICS_2</th>\n",
       "      <th>Franchised</th>\n",
       "      <th>RealEstate</th>\n",
       "    </tr>\n",
       "  </thead>\n",
       "  <tbody>\n",
       "    <tr>\n",
       "      <th>2499</th>\n",
       "      <td>DOMINO'S PIZZA</td>\n",
       "      <td>SARASOTA</td>\n",
       "      <td>FL</td>\n",
       "      <td>34231</td>\n",
       "      <td>STEARNS BK NATL ASSOC</td>\n",
       "      <td>FL</td>\n",
       "      <td>0</td>\n",
       "      <td>1997-03-06</td>\n",
       "      <td>1997</td>\n",
       "      <td>60</td>\n",
       "      <td>...</td>\n",
       "      <td>0</td>\n",
       "      <td>N</td>\n",
       "      <td>N</td>\n",
       "      <td>1</td>\n",
       "      <td>260000</td>\n",
       "      <td>195000</td>\n",
       "      <td>34</td>\n",
       "      <td>0</td>\n",
       "      <td>1</td>\n",
       "      <td>0</td>\n",
       "    </tr>\n",
       "    <tr>\n",
       "      <th>10553</th>\n",
       "      <td>DOMINO'S PIZZA</td>\n",
       "      <td>SPRINGFIELD</td>\n",
       "      <td>MO</td>\n",
       "      <td>65802</td>\n",
       "      <td>EMPIRE BANK</td>\n",
       "      <td>MO</td>\n",
       "      <td>0</td>\n",
       "      <td>1997-03-28</td>\n",
       "      <td>1997</td>\n",
       "      <td>84</td>\n",
       "      <td>...</td>\n",
       "      <td>0</td>\n",
       "      <td>N</td>\n",
       "      <td>N</td>\n",
       "      <td>1</td>\n",
       "      <td>90000</td>\n",
       "      <td>72000</td>\n",
       "      <td>65</td>\n",
       "      <td>0</td>\n",
       "      <td>1</td>\n",
       "      <td>0</td>\n",
       "    </tr>\n",
       "    <tr>\n",
       "      <th>11440</th>\n",
       "      <td>DOMINO'S PIZZA</td>\n",
       "      <td>PONTE VERDE BEACH</td>\n",
       "      <td>FL</td>\n",
       "      <td>32082</td>\n",
       "      <td>OLD FLORIDA BANK</td>\n",
       "      <td>FL</td>\n",
       "      <td>0</td>\n",
       "      <td>1997-04-01</td>\n",
       "      <td>1997</td>\n",
       "      <td>85</td>\n",
       "      <td>...</td>\n",
       "      <td>0</td>\n",
       "      <td>0</td>\n",
       "      <td>N</td>\n",
       "      <td>1</td>\n",
       "      <td>90000</td>\n",
       "      <td>72000</td>\n",
       "      <td>32</td>\n",
       "      <td>0</td>\n",
       "      <td>1</td>\n",
       "      <td>0</td>\n",
       "    </tr>\n",
       "    <tr>\n",
       "      <th>12269</th>\n",
       "      <td>DOMINO'S PIZZA</td>\n",
       "      <td>GUNTERSVILLE</td>\n",
       "      <td>AL</td>\n",
       "      <td>35976</td>\n",
       "      <td>BANCORPSOUTH BANK</td>\n",
       "      <td>AL</td>\n",
       "      <td>0</td>\n",
       "      <td>1997-04-02</td>\n",
       "      <td>1997</td>\n",
       "      <td>60</td>\n",
       "      <td>...</td>\n",
       "      <td>0</td>\n",
       "      <td>N</td>\n",
       "      <td>Y</td>\n",
       "      <td>1</td>\n",
       "      <td>75000</td>\n",
       "      <td>60000</td>\n",
       "      <td>35</td>\n",
       "      <td>0</td>\n",
       "      <td>1</td>\n",
       "      <td>0</td>\n",
       "    </tr>\n",
       "    <tr>\n",
       "      <th>14721</th>\n",
       "      <td>DOMINO'S PIZZA</td>\n",
       "      <td>UNIONDALE</td>\n",
       "      <td>NY</td>\n",
       "      <td>11553</td>\n",
       "      <td>BANCO POPULAR NORTH AMERICA</td>\n",
       "      <td>NY</td>\n",
       "      <td>0</td>\n",
       "      <td>1997-04-08</td>\n",
       "      <td>1997</td>\n",
       "      <td>120</td>\n",
       "      <td>...</td>\n",
       "      <td>0</td>\n",
       "      <td>0</td>\n",
       "      <td>N</td>\n",
       "      <td>1</td>\n",
       "      <td>96000</td>\n",
       "      <td>76800</td>\n",
       "      <td>11</td>\n",
       "      <td>0</td>\n",
       "      <td>1</td>\n",
       "      <td>0</td>\n",
       "    </tr>\n",
       "  </tbody>\n",
       "</table>\n",
       "<p>5 rows × 25 columns</p>\n",
       "</div>"
      ],
      "text/plain": [
       "                 Name               City State    Zip  \\\n",
       "2499   DOMINO'S PIZZA           SARASOTA    FL  34231   \n",
       "10553  DOMINO'S PIZZA        SPRINGFIELD    MO  65802   \n",
       "11440  DOMINO'S PIZZA  PONTE VERDE BEACH    FL  32082   \n",
       "12269  DOMINO'S PIZZA       GUNTERSVILLE    AL  35976   \n",
       "14721  DOMINO'S PIZZA          UNIONDALE    NY  11553   \n",
       "\n",
       "                              Bank BankState NAICS ApprovalDate ApprovalFY  \\\n",
       "2499         STEARNS BK NATL ASSOC        FL     0   1997-03-06       1997   \n",
       "10553                  EMPIRE BANK        MO     0   1997-03-28       1997   \n",
       "11440             OLD FLORIDA BANK        FL     0   1997-04-01       1997   \n",
       "12269            BANCORPSOUTH BANK        AL     0   1997-04-02       1997   \n",
       "14721  BANCO POPULAR NORTH AMERICA        NY     0   1997-04-08       1997   \n",
       "\n",
       "       Term  ...  UrbanRural RevLineCr  LowDoc  MIS_Status  GrAppv SBA_Appv  \\\n",
       "2499     60  ...           0         N       N           1  260000   195000   \n",
       "10553    84  ...           0         N       N           1   90000    72000   \n",
       "11440    85  ...           0         0       N           1   90000    72000   \n",
       "12269    60  ...           0         N       Y           1   75000    60000   \n",
       "14721   120  ...           0         0       N           1   96000    76800   \n",
       "\n",
       "      Zip_2 NAICS_2  Franchised  RealEstate  \n",
       "2499     34       0           1           0  \n",
       "10553    65       0           1           0  \n",
       "11440    32       0           1           0  \n",
       "12269    35       0           1           0  \n",
       "14721    11       0           1           0  \n",
       "\n",
       "[5 rows x 25 columns]"
      ]
     },
     "metadata": {},
     "output_type": "display_data"
    }
   ],
   "source": [
    "pizza_subset = data[data[\"Name\"] == \"DOMINO'S PIZZA\"]\n",
    "\n",
    "display(pizza_subset.head())"
   ]
  },
  {
   "cell_type": "code",
   "execution_count": 7,
   "metadata": {},
   "outputs": [
    {
     "data": {
      "text/html": [
       "<div>\n",
       "<style scoped>\n",
       "    .dataframe tbody tr th:only-of-type {\n",
       "        vertical-align: middle;\n",
       "    }\n",
       "\n",
       "    .dataframe tbody tr th {\n",
       "        vertical-align: top;\n",
       "    }\n",
       "\n",
       "    .dataframe thead th {\n",
       "        text-align: right;\n",
       "    }\n",
       "</style>\n",
       "<table border=\"1\" class=\"dataframe\">\n",
       "  <thead>\n",
       "    <tr style=\"text-align: right;\">\n",
       "      <th></th>\n",
       "      <th>Name</th>\n",
       "      <th>City</th>\n",
       "      <th>State</th>\n",
       "      <th>Zip</th>\n",
       "      <th>Bank</th>\n",
       "      <th>BankState</th>\n",
       "      <th>NAICS</th>\n",
       "      <th>ApprovalDate</th>\n",
       "      <th>ApprovalFY</th>\n",
       "      <th>Term</th>\n",
       "      <th>...</th>\n",
       "      <th>UrbanRural</th>\n",
       "      <th>RevLineCr</th>\n",
       "      <th>LowDoc</th>\n",
       "      <th>MIS_Status</th>\n",
       "      <th>GrAppv</th>\n",
       "      <th>SBA_Appv</th>\n",
       "      <th>Zip_2</th>\n",
       "      <th>NAICS_2</th>\n",
       "      <th>Franchised</th>\n",
       "      <th>RealEstate</th>\n",
       "    </tr>\n",
       "  </thead>\n",
       "  <tbody>\n",
       "    <tr>\n",
       "      <th>3</th>\n",
       "      <td>BIG BUCKS PAWN &amp; JEWELRY, LLC</td>\n",
       "      <td>BROKEN ARROW</td>\n",
       "      <td>OK</td>\n",
       "      <td>74012</td>\n",
       "      <td>1ST NATL BK &amp; TR CO OF BROKEN</td>\n",
       "      <td>OK</td>\n",
       "      <td>0</td>\n",
       "      <td>1997-02-28</td>\n",
       "      <td>1997</td>\n",
       "      <td>60</td>\n",
       "      <td>...</td>\n",
       "      <td>0</td>\n",
       "      <td>N</td>\n",
       "      <td>Y</td>\n",
       "      <td>1</td>\n",
       "      <td>35000</td>\n",
       "      <td>28000</td>\n",
       "      <td>74</td>\n",
       "      <td>0</td>\n",
       "      <td>0</td>\n",
       "      <td>0</td>\n",
       "    </tr>\n",
       "    <tr>\n",
       "      <th>4</th>\n",
       "      <td>ANASTASIA CONFECTIONS, INC.</td>\n",
       "      <td>ORLANDO</td>\n",
       "      <td>FL</td>\n",
       "      <td>32801</td>\n",
       "      <td>FLORIDA BUS. DEVEL CORP</td>\n",
       "      <td>FL</td>\n",
       "      <td>0</td>\n",
       "      <td>1997-02-28</td>\n",
       "      <td>1997</td>\n",
       "      <td>240</td>\n",
       "      <td>...</td>\n",
       "      <td>0</td>\n",
       "      <td>N</td>\n",
       "      <td>N</td>\n",
       "      <td>1</td>\n",
       "      <td>229000</td>\n",
       "      <td>229000</td>\n",
       "      <td>32</td>\n",
       "      <td>0</td>\n",
       "      <td>0</td>\n",
       "      <td>1</td>\n",
       "    </tr>\n",
       "    <tr>\n",
       "      <th>6</th>\n",
       "      <td>MIDDLE ATLANTIC SPORTS CO INC</td>\n",
       "      <td>UNION</td>\n",
       "      <td>NJ</td>\n",
       "      <td>7083</td>\n",
       "      <td>WELLS FARGO BANK NATL ASSOC</td>\n",
       "      <td>SD</td>\n",
       "      <td>0</td>\n",
       "      <td>1980-06-02</td>\n",
       "      <td>1980</td>\n",
       "      <td>45</td>\n",
       "      <td>...</td>\n",
       "      <td>0</td>\n",
       "      <td>N</td>\n",
       "      <td>N</td>\n",
       "      <td>0</td>\n",
       "      <td>600000</td>\n",
       "      <td>499998</td>\n",
       "      <td>70</td>\n",
       "      <td>0</td>\n",
       "      <td>0</td>\n",
       "      <td>0</td>\n",
       "    </tr>\n",
       "    <tr>\n",
       "      <th>9</th>\n",
       "      <td>INTEXT BUILDING SYS LLC</td>\n",
       "      <td>GLASTONBURY</td>\n",
       "      <td>CT</td>\n",
       "      <td>6073</td>\n",
       "      <td>WEBSTER BANK NATL ASSOC</td>\n",
       "      <td>CT</td>\n",
       "      <td>0</td>\n",
       "      <td>1997-02-28</td>\n",
       "      <td>1997</td>\n",
       "      <td>84</td>\n",
       "      <td>...</td>\n",
       "      <td>0</td>\n",
       "      <td>N</td>\n",
       "      <td>Y</td>\n",
       "      <td>1</td>\n",
       "      <td>70000</td>\n",
       "      <td>56000</td>\n",
       "      <td>60</td>\n",
       "      <td>0</td>\n",
       "      <td>0</td>\n",
       "      <td>0</td>\n",
       "    </tr>\n",
       "    <tr>\n",
       "      <th>13</th>\n",
       "      <td>ORCHARD CAFE &amp; BAKERY, INC.</td>\n",
       "      <td>SLATERSVILLE</td>\n",
       "      <td>RI</td>\n",
       "      <td>2876</td>\n",
       "      <td>CITIZENS BANK NATL ASSOC</td>\n",
       "      <td>RI</td>\n",
       "      <td>0</td>\n",
       "      <td>1997-02-28</td>\n",
       "      <td>1997</td>\n",
       "      <td>120</td>\n",
       "      <td>...</td>\n",
       "      <td>0</td>\n",
       "      <td>N</td>\n",
       "      <td>N</td>\n",
       "      <td>1</td>\n",
       "      <td>370000</td>\n",
       "      <td>277500</td>\n",
       "      <td>28</td>\n",
       "      <td>0</td>\n",
       "      <td>0</td>\n",
       "      <td>0</td>\n",
       "    </tr>\n",
       "    <tr>\n",
       "      <th>...</th>\n",
       "      <td>...</td>\n",
       "      <td>...</td>\n",
       "      <td>...</td>\n",
       "      <td>...</td>\n",
       "      <td>...</td>\n",
       "      <td>...</td>\n",
       "      <td>...</td>\n",
       "      <td>...</td>\n",
       "      <td>...</td>\n",
       "      <td>...</td>\n",
       "      <td>...</td>\n",
       "      <td>...</td>\n",
       "      <td>...</td>\n",
       "      <td>...</td>\n",
       "      <td>...</td>\n",
       "      <td>...</td>\n",
       "      <td>...</td>\n",
       "      <td>...</td>\n",
       "      <td>...</td>\n",
       "      <td>...</td>\n",
       "      <td>...</td>\n",
       "    </tr>\n",
       "    <tr>\n",
       "      <th>899153</th>\n",
       "      <td>NORTH SHORE FLORAL</td>\n",
       "      <td>WOODBURY</td>\n",
       "      <td>NY</td>\n",
       "      <td>11797</td>\n",
       "      <td>FLUSHING BANK</td>\n",
       "      <td>NY</td>\n",
       "      <td>0</td>\n",
       "      <td>1997-02-27</td>\n",
       "      <td>1997</td>\n",
       "      <td>119</td>\n",
       "      <td>...</td>\n",
       "      <td>0</td>\n",
       "      <td>0</td>\n",
       "      <td>N</td>\n",
       "      <td>0</td>\n",
       "      <td>142000</td>\n",
       "      <td>106500</td>\n",
       "      <td>11</td>\n",
       "      <td>0</td>\n",
       "      <td>0</td>\n",
       "      <td>0</td>\n",
       "    </tr>\n",
       "    <tr>\n",
       "      <th>899154</th>\n",
       "      <td>LITWIN LIVERY SERVICES, INC.</td>\n",
       "      <td>CAMPBELL</td>\n",
       "      <td>OH</td>\n",
       "      <td>44405</td>\n",
       "      <td>JPMORGAN CHASE BANK NATL ASSOC</td>\n",
       "      <td>IL</td>\n",
       "      <td>0</td>\n",
       "      <td>1997-02-27</td>\n",
       "      <td>1997</td>\n",
       "      <td>60</td>\n",
       "      <td>...</td>\n",
       "      <td>0</td>\n",
       "      <td>0</td>\n",
       "      <td>N</td>\n",
       "      <td>1</td>\n",
       "      <td>10000</td>\n",
       "      <td>5000</td>\n",
       "      <td>44</td>\n",
       "      <td>0</td>\n",
       "      <td>0</td>\n",
       "      <td>0</td>\n",
       "    </tr>\n",
       "    <tr>\n",
       "      <th>899158</th>\n",
       "      <td>SHADES WINDOW TINTING AUTO ALA</td>\n",
       "      <td>IRVING</td>\n",
       "      <td>TX</td>\n",
       "      <td>75062</td>\n",
       "      <td>LOANS FROM OLD CLOSED LENDERS</td>\n",
       "      <td>DC</td>\n",
       "      <td>0</td>\n",
       "      <td>1997-02-27</td>\n",
       "      <td>1997</td>\n",
       "      <td>84</td>\n",
       "      <td>...</td>\n",
       "      <td>0</td>\n",
       "      <td>N</td>\n",
       "      <td>Y</td>\n",
       "      <td>1</td>\n",
       "      <td>79000</td>\n",
       "      <td>63200</td>\n",
       "      <td>75</td>\n",
       "      <td>0</td>\n",
       "      <td>0</td>\n",
       "      <td>0</td>\n",
       "    </tr>\n",
       "    <tr>\n",
       "      <th>899162</th>\n",
       "      <td>MARUTAMA HAWAII, INC.</td>\n",
       "      <td>HONOLULU</td>\n",
       "      <td>HI</td>\n",
       "      <td>96830</td>\n",
       "      <td>BANK OF HAWAII</td>\n",
       "      <td>HI</td>\n",
       "      <td>0</td>\n",
       "      <td>1997-02-27</td>\n",
       "      <td>1997</td>\n",
       "      <td>60</td>\n",
       "      <td>...</td>\n",
       "      <td>0</td>\n",
       "      <td>N</td>\n",
       "      <td>Y</td>\n",
       "      <td>0</td>\n",
       "      <td>75000</td>\n",
       "      <td>60000</td>\n",
       "      <td>96</td>\n",
       "      <td>0</td>\n",
       "      <td>0</td>\n",
       "      <td>0</td>\n",
       "    </tr>\n",
       "    <tr>\n",
       "      <th>899163</th>\n",
       "      <td>PACIFIC TRADEWINDS FAN &amp; LIGHT</td>\n",
       "      <td>KAILUA</td>\n",
       "      <td>HI</td>\n",
       "      <td>96734</td>\n",
       "      <td>CENTRAL PACIFIC BANK</td>\n",
       "      <td>HI</td>\n",
       "      <td>0</td>\n",
       "      <td>1997-02-27</td>\n",
       "      <td>1997</td>\n",
       "      <td>48</td>\n",
       "      <td>...</td>\n",
       "      <td>0</td>\n",
       "      <td>N</td>\n",
       "      <td>N</td>\n",
       "      <td>1</td>\n",
       "      <td>30000</td>\n",
       "      <td>24000</td>\n",
       "      <td>96</td>\n",
       "      <td>0</td>\n",
       "      <td>0</td>\n",
       "      <td>0</td>\n",
       "    </tr>\n",
       "  </tbody>\n",
       "</table>\n",
       "<p>201667 rows × 25 columns</p>\n",
       "</div>"
      ],
      "text/plain": [
       "                                  Name          City State    Zip  \\\n",
       "3        BIG BUCKS PAWN & JEWELRY, LLC  BROKEN ARROW    OK  74012   \n",
       "4          ANASTASIA CONFECTIONS, INC.       ORLANDO    FL  32801   \n",
       "6        MIDDLE ATLANTIC SPORTS CO INC         UNION    NJ   7083   \n",
       "9              INTEXT BUILDING SYS LLC   GLASTONBURY    CT   6073   \n",
       "13         ORCHARD CAFE & BAKERY, INC.  SLATERSVILLE    RI   2876   \n",
       "...                                ...           ...   ...    ...   \n",
       "899153              NORTH SHORE FLORAL      WOODBURY    NY  11797   \n",
       "899154    LITWIN LIVERY SERVICES, INC.      CAMPBELL    OH  44405   \n",
       "899158  SHADES WINDOW TINTING AUTO ALA        IRVING    TX  75062   \n",
       "899162           MARUTAMA HAWAII, INC.      HONOLULU    HI  96830   \n",
       "899163  PACIFIC TRADEWINDS FAN & LIGHT        KAILUA    HI  96734   \n",
       "\n",
       "                                  Bank BankState NAICS ApprovalDate  \\\n",
       "3        1ST NATL BK & TR CO OF BROKEN        OK     0   1997-02-28   \n",
       "4              FLORIDA BUS. DEVEL CORP        FL     0   1997-02-28   \n",
       "6          WELLS FARGO BANK NATL ASSOC        SD     0   1980-06-02   \n",
       "9              WEBSTER BANK NATL ASSOC        CT     0   1997-02-28   \n",
       "13            CITIZENS BANK NATL ASSOC        RI     0   1997-02-28   \n",
       "...                                ...       ...   ...          ...   \n",
       "899153                   FLUSHING BANK        NY     0   1997-02-27   \n",
       "899154  JPMORGAN CHASE BANK NATL ASSOC        IL     0   1997-02-27   \n",
       "899158   LOANS FROM OLD CLOSED LENDERS        DC     0   1997-02-27   \n",
       "899162                  BANK OF HAWAII        HI     0   1997-02-27   \n",
       "899163            CENTRAL PACIFIC BANK        HI     0   1997-02-27   \n",
       "\n",
       "       ApprovalFY  Term  ...  UrbanRural RevLineCr  LowDoc  MIS_Status  \\\n",
       "3            1997    60  ...           0         N       Y           1   \n",
       "4            1997   240  ...           0         N       N           1   \n",
       "6            1980    45  ...           0         N       N           0   \n",
       "9            1997    84  ...           0         N       Y           1   \n",
       "13           1997   120  ...           0         N       N           1   \n",
       "...           ...   ...  ...         ...       ...     ...         ...   \n",
       "899153       1997   119  ...           0         0       N           0   \n",
       "899154       1997    60  ...           0         0       N           1   \n",
       "899158       1997    84  ...           0         N       Y           1   \n",
       "899162       1997    60  ...           0         N       Y           0   \n",
       "899163       1997    48  ...           0         N       N           1   \n",
       "\n",
       "        GrAppv SBA_Appv Zip_2 NAICS_2  Franchised  RealEstate  \n",
       "3        35000    28000    74       0           0           0  \n",
       "4       229000   229000    32       0           0           1  \n",
       "6       600000   499998    70       0           0           0  \n",
       "9        70000    56000    60       0           0           0  \n",
       "13      370000   277500    28       0           0           0  \n",
       "...        ...      ...   ...     ...         ...         ...  \n",
       "899153  142000   106500    11       0           0           0  \n",
       "899154   10000     5000    44       0           0           0  \n",
       "899158   79000    63200    75       0           0           0  \n",
       "899162   75000    60000    96       0           0           0  \n",
       "899163   30000    24000    96       0           0           0  \n",
       "\n",
       "[201667 rows x 25 columns]"
      ]
     },
     "metadata": {},
     "output_type": "display_data"
    }
   ],
   "source": [
    "naics_subset = data[data[\"NAICS\"] == 0]\n",
    "display(naics_subset)"
   ]
  }
 ],
 "metadata": {
  "kernelspec": {
   "display_name": ".venv",
   "language": "python",
   "name": "python3"
  },
  "language_info": {
   "codemirror_mode": {
    "name": "ipython",
    "version": 3
   },
   "file_extension": ".py",
   "mimetype": "text/x-python",
   "name": "python",
   "nbconvert_exporter": "python",
   "pygments_lexer": "ipython3",
   "version": "3.10.12"
  }
 },
 "nbformat": 4,
 "nbformat_minor": 2
}
