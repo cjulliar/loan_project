{
 "cells": [
  {
   "cell_type": "markdown",
   "metadata": {},
   "source": [
    "# Modelisation"
   ]
  },
  {
   "cell_type": "code",
   "execution_count": 8,
   "metadata": {},
   "outputs": [],
   "source": [
    "import pandas as pd\n",
    "import numpy as np\n",
    "\n",
    "from sklearn.compose import ColumnTransformer\n",
    "from sklearn.ensemble import RandomForestClassifier\n",
    "from sklearn.model_selection import train_test_split\n",
    "from sklearn.pipeline import make_pipeline"
   ]
  },
  {
   "cell_type": "code",
   "execution_count": 9,
   "metadata": {},
   "outputs": [],
   "source": [
    "data = pd.read_csv(\"datasets/SBAnational-cleaned.csv\")"
   ]
  },
  {
   "cell_type": "code",
   "execution_count": 11,
   "metadata": {},
   "outputs": [
    {
     "name": "stdout",
     "output_type": "stream",
     "text": [
      "<class 'pandas.core.frame.DataFrame'>\n",
      "RangeIndex: 897167 entries, 0 to 897166\n",
      "Data columns (total 20 columns):\n",
      " #   Column         Non-Null Count   Dtype  \n",
      "---  ------         --------------   -----  \n",
      " 0   Name           897153 non-null  object \n",
      " 1   City           897137 non-null  object \n",
      " 2   State          897154 non-null  object \n",
      " 3   Zip            897167 non-null  int64  \n",
      " 4   Bank           895661 non-null  object \n",
      " 5   BankState      895654 non-null  object \n",
      " 6   NAICS          897167 non-null  int64  \n",
      " 7   ApprovalDate   897167 non-null  object \n",
      " 8   ApprovalFY     897167 non-null  int64  \n",
      " 9   Term           897167 non-null  int64  \n",
      " 10  NoEmp          897167 non-null  int64  \n",
      " 11  NewExist       897033 non-null  float64\n",
      " 12  CreateJob      897167 non-null  int64  \n",
      " 13  RetainedJob    897167 non-null  int64  \n",
      " 14  FranchiseCode  897167 non-null  int64  \n",
      " 15  UrbanRural     897167 non-null  int64  \n",
      " 16  RevLineCr      892647 non-null  object \n",
      " 17  LowDoc         894589 non-null  object \n",
      " 18  MIS_Status     897167 non-null  object \n",
      " 19  GrAppv         897167 non-null  int64  \n",
      "dtypes: float64(1), int64(10), object(9)\n",
      "memory usage: 136.9+ MB\n"
     ]
    }
   ],
   "source": [
    "data.info()"
   ]
  },
  {
   "cell_type": "code",
   "execution_count": null,
   "metadata": {},
   "outputs": [],
   "source": [
    "imputing_transformer = ColumnTransformer(\n",
    "    transformers=[\n",
    "        (\"name_imputing\", ),\n",
    "    ]\n",
    ")"
   ]
  }
 ],
 "metadata": {
  "kernelspec": {
   "display_name": ".venv",
   "language": "python",
   "name": "python3"
  },
  "language_info": {
   "codemirror_mode": {
    "name": "ipython",
    "version": 3
   },
   "file_extension": ".py",
   "mimetype": "text/x-python",
   "name": "python",
   "nbconvert_exporter": "python",
   "pygments_lexer": "ipython3",
   "version": "3.10.12"
  }
 },
 "nbformat": 4,
 "nbformat_minor": 2
}
