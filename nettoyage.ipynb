{
 "cells": [
  {
   "cell_type": "markdown",
   "metadata": {},
   "source": [
    "# Nettoyage du dataset SBAnational"
   ]
  },
  {
   "cell_type": "markdown",
   "metadata": {},
   "source": [
    "## Import librairies et datasets"
   ]
  },
  {
   "cell_type": "code",
   "execution_count": 193,
   "metadata": {},
   "outputs": [],
   "source": [
    "import numpy as np\n",
    "import pandas as pd"
   ]
  },
  {
   "cell_type": "code",
   "execution_count": 194,
   "metadata": {},
   "outputs": [
    {
     "name": "stderr",
     "output_type": "stream",
     "text": [
      "/tmp/ipykernel_10426/972199569.py:1: DtypeWarning: Columns (9) have mixed types. Specify dtype option on import or set low_memory=False.\n",
      "  data = pd.read_csv(\"datasets/SBAnational.csv\")\n"
     ]
    }
   ],
   "source": [
    "data = pd.read_csv(\"datasets/SBAnational.csv\")"
   ]
  },
  {
   "cell_type": "code",
   "execution_count": 195,
   "metadata": {},
   "outputs": [],
   "source": [
    "col_to_drop = [\"LoanNr_ChkDgt\", \"ChgOffDate\", \"DisbursementDate\", \"DisbursementGross\", \"BalanceGross\", \"ChgOffPrinGr\", \"SBA_Appv\"]\n",
    "data = data.drop(col_to_drop, axis=1)"
   ]
  },
  {
   "cell_type": "code",
   "execution_count": 196,
   "metadata": {},
   "outputs": [
    {
     "data": {
      "text/html": [
       "<div>\n",
       "<style scoped>\n",
       "    .dataframe tbody tr th:only-of-type {\n",
       "        vertical-align: middle;\n",
       "    }\n",
       "\n",
       "    .dataframe tbody tr th {\n",
       "        vertical-align: top;\n",
       "    }\n",
       "\n",
       "    .dataframe thead th {\n",
       "        text-align: right;\n",
       "    }\n",
       "</style>\n",
       "<table border=\"1\" class=\"dataframe\">\n",
       "  <thead>\n",
       "    <tr style=\"text-align: right;\">\n",
       "      <th></th>\n",
       "      <th>Name</th>\n",
       "      <th>City</th>\n",
       "      <th>State</th>\n",
       "      <th>Zip</th>\n",
       "      <th>Bank</th>\n",
       "      <th>BankState</th>\n",
       "      <th>NAICS</th>\n",
       "      <th>ApprovalDate</th>\n",
       "      <th>ApprovalFY</th>\n",
       "      <th>Term</th>\n",
       "      <th>NoEmp</th>\n",
       "      <th>NewExist</th>\n",
       "      <th>CreateJob</th>\n",
       "      <th>RetainedJob</th>\n",
       "      <th>FranchiseCode</th>\n",
       "      <th>UrbanRural</th>\n",
       "      <th>RevLineCr</th>\n",
       "      <th>LowDoc</th>\n",
       "      <th>MIS_Status</th>\n",
       "      <th>GrAppv</th>\n",
       "    </tr>\n",
       "  </thead>\n",
       "  <tbody>\n",
       "    <tr>\n",
       "      <th>0</th>\n",
       "      <td>ABC HOBBYCRAFT</td>\n",
       "      <td>EVANSVILLE</td>\n",
       "      <td>IN</td>\n",
       "      <td>47711</td>\n",
       "      <td>FIFTH THIRD BANK</td>\n",
       "      <td>OH</td>\n",
       "      <td>451120</td>\n",
       "      <td>28-Feb-97</td>\n",
       "      <td>1997</td>\n",
       "      <td>84</td>\n",
       "      <td>4</td>\n",
       "      <td>2.0</td>\n",
       "      <td>0</td>\n",
       "      <td>0</td>\n",
       "      <td>1</td>\n",
       "      <td>0</td>\n",
       "      <td>N</td>\n",
       "      <td>Y</td>\n",
       "      <td>P I F</td>\n",
       "      <td>$60,000.00</td>\n",
       "    </tr>\n",
       "    <tr>\n",
       "      <th>1</th>\n",
       "      <td>LANDMARK BAR &amp; GRILLE (THE)</td>\n",
       "      <td>NEW PARIS</td>\n",
       "      <td>IN</td>\n",
       "      <td>46526</td>\n",
       "      <td>1ST SOURCE BANK</td>\n",
       "      <td>IN</td>\n",
       "      <td>722410</td>\n",
       "      <td>28-Feb-97</td>\n",
       "      <td>1997</td>\n",
       "      <td>60</td>\n",
       "      <td>2</td>\n",
       "      <td>2.0</td>\n",
       "      <td>0</td>\n",
       "      <td>0</td>\n",
       "      <td>1</td>\n",
       "      <td>0</td>\n",
       "      <td>N</td>\n",
       "      <td>Y</td>\n",
       "      <td>P I F</td>\n",
       "      <td>$40,000.00</td>\n",
       "    </tr>\n",
       "    <tr>\n",
       "      <th>2</th>\n",
       "      <td>WHITLOCK DDS, TODD M.</td>\n",
       "      <td>BLOOMINGTON</td>\n",
       "      <td>IN</td>\n",
       "      <td>47401</td>\n",
       "      <td>GRANT COUNTY STATE BANK</td>\n",
       "      <td>IN</td>\n",
       "      <td>621210</td>\n",
       "      <td>28-Feb-97</td>\n",
       "      <td>1997</td>\n",
       "      <td>180</td>\n",
       "      <td>7</td>\n",
       "      <td>1.0</td>\n",
       "      <td>0</td>\n",
       "      <td>0</td>\n",
       "      <td>1</td>\n",
       "      <td>0</td>\n",
       "      <td>N</td>\n",
       "      <td>N</td>\n",
       "      <td>P I F</td>\n",
       "      <td>$287,000.00</td>\n",
       "    </tr>\n",
       "    <tr>\n",
       "      <th>3</th>\n",
       "      <td>BIG BUCKS PAWN &amp; JEWELRY, LLC</td>\n",
       "      <td>BROKEN ARROW</td>\n",
       "      <td>OK</td>\n",
       "      <td>74012</td>\n",
       "      <td>1ST NATL BK &amp; TR CO OF BROKEN</td>\n",
       "      <td>OK</td>\n",
       "      <td>0</td>\n",
       "      <td>28-Feb-97</td>\n",
       "      <td>1997</td>\n",
       "      <td>60</td>\n",
       "      <td>2</td>\n",
       "      <td>1.0</td>\n",
       "      <td>0</td>\n",
       "      <td>0</td>\n",
       "      <td>1</td>\n",
       "      <td>0</td>\n",
       "      <td>N</td>\n",
       "      <td>Y</td>\n",
       "      <td>P I F</td>\n",
       "      <td>$35,000.00</td>\n",
       "    </tr>\n",
       "    <tr>\n",
       "      <th>4</th>\n",
       "      <td>ANASTASIA CONFECTIONS, INC.</td>\n",
       "      <td>ORLANDO</td>\n",
       "      <td>FL</td>\n",
       "      <td>32801</td>\n",
       "      <td>FLORIDA BUS. DEVEL CORP</td>\n",
       "      <td>FL</td>\n",
       "      <td>0</td>\n",
       "      <td>28-Feb-97</td>\n",
       "      <td>1997</td>\n",
       "      <td>240</td>\n",
       "      <td>14</td>\n",
       "      <td>1.0</td>\n",
       "      <td>7</td>\n",
       "      <td>7</td>\n",
       "      <td>1</td>\n",
       "      <td>0</td>\n",
       "      <td>N</td>\n",
       "      <td>N</td>\n",
       "      <td>P I F</td>\n",
       "      <td>$229,000.00</td>\n",
       "    </tr>\n",
       "  </tbody>\n",
       "</table>\n",
       "</div>"
      ],
      "text/plain": [
       "                            Name          City State    Zip  \\\n",
       "0                 ABC HOBBYCRAFT    EVANSVILLE    IN  47711   \n",
       "1    LANDMARK BAR & GRILLE (THE)     NEW PARIS    IN  46526   \n",
       "2          WHITLOCK DDS, TODD M.   BLOOMINGTON    IN  47401   \n",
       "3  BIG BUCKS PAWN & JEWELRY, LLC  BROKEN ARROW    OK  74012   \n",
       "4    ANASTASIA CONFECTIONS, INC.       ORLANDO    FL  32801   \n",
       "\n",
       "                            Bank BankState   NAICS ApprovalDate ApprovalFY  \\\n",
       "0               FIFTH THIRD BANK        OH  451120    28-Feb-97       1997   \n",
       "1                1ST SOURCE BANK        IN  722410    28-Feb-97       1997   \n",
       "2        GRANT COUNTY STATE BANK        IN  621210    28-Feb-97       1997   \n",
       "3  1ST NATL BK & TR CO OF BROKEN        OK       0    28-Feb-97       1997   \n",
       "4        FLORIDA BUS. DEVEL CORP        FL       0    28-Feb-97       1997   \n",
       "\n",
       "   Term  NoEmp  NewExist  CreateJob  RetainedJob  FranchiseCode  UrbanRural  \\\n",
       "0    84      4       2.0          0            0              1           0   \n",
       "1    60      2       2.0          0            0              1           0   \n",
       "2   180      7       1.0          0            0              1           0   \n",
       "3    60      2       1.0          0            0              1           0   \n",
       "4   240     14       1.0          7            7              1           0   \n",
       "\n",
       "  RevLineCr LowDoc MIS_Status        GrAppv  \n",
       "0         N      Y      P I F   $60,000.00   \n",
       "1         N      Y      P I F   $40,000.00   \n",
       "2         N      N      P I F  $287,000.00   \n",
       "3         N      Y      P I F   $35,000.00   \n",
       "4         N      N      P I F  $229,000.00   "
      ]
     },
     "execution_count": 196,
     "metadata": {},
     "output_type": "execute_result"
    }
   ],
   "source": [
    "data.head()"
   ]
  },
  {
   "cell_type": "markdown",
   "metadata": {},
   "source": [
    "## Changement des types"
   ]
  },
  {
   "cell_type": "code",
   "execution_count": 197,
   "metadata": {},
   "outputs": [
    {
     "name": "stdout",
     "output_type": "stream",
     "text": [
      "<class 'pandas.core.frame.DataFrame'>\n",
      "RangeIndex: 899164 entries, 0 to 899163\n",
      "Data columns (total 20 columns):\n",
      " #   Column         Non-Null Count   Dtype  \n",
      "---  ------         --------------   -----  \n",
      " 0   Name           899150 non-null  object \n",
      " 1   City           899134 non-null  object \n",
      " 2   State          899150 non-null  object \n",
      " 3   Zip            899164 non-null  int64  \n",
      " 4   Bank           897605 non-null  object \n",
      " 5   BankState      897598 non-null  object \n",
      " 6   NAICS          899164 non-null  int64  \n",
      " 7   ApprovalDate   899164 non-null  object \n",
      " 8   ApprovalFY     899164 non-null  object \n",
      " 9   Term           899164 non-null  int64  \n",
      " 10  NoEmp          899164 non-null  int64  \n",
      " 11  NewExist       899028 non-null  float64\n",
      " 12  CreateJob      899164 non-null  int64  \n",
      " 13  RetainedJob    899164 non-null  int64  \n",
      " 14  FranchiseCode  899164 non-null  int64  \n",
      " 15  UrbanRural     899164 non-null  int64  \n",
      " 16  RevLineCr      894636 non-null  object \n",
      " 17  LowDoc         896582 non-null  object \n",
      " 18  MIS_Status     897167 non-null  object \n",
      " 19  GrAppv         899164 non-null  object \n",
      "dtypes: float64(1), int64(8), object(11)\n",
      "memory usage: 137.2+ MB\n"
     ]
    }
   ],
   "source": [
    "data.info()"
   ]
  },
  {
   "cell_type": "code",
   "execution_count": 198,
   "metadata": {},
   "outputs": [],
   "source": [
    "data[\"GrAppv\"] = pd.to_numeric(data['GrAppv'].str.replace(\"[^\\d.]\", \"\", regex=True), errors=\"coerce\").astype(int)\n",
    "\n",
    "\n",
    "data = data.astype({\"Zip\": \"object\", \n",
    "                    \"NAICS\": \"object\",\n",
    "                    \"NewExist\": \"object\",\n",
    "                    \"FranchiseCode\": \"object\",\n",
    "                    \"UrbanRural\": \"object\",\n",
    "                    \"GrAppv\": \"int64\"})"
   ]
  },
  {
   "cell_type": "code",
   "execution_count": 199,
   "metadata": {},
   "outputs": [
    {
     "name": "stdout",
     "output_type": "stream",
     "text": [
      "<class 'pandas.core.frame.DataFrame'>\n",
      "RangeIndex: 899164 entries, 0 to 899163\n",
      "Data columns (total 20 columns):\n",
      " #   Column         Non-Null Count   Dtype \n",
      "---  ------         --------------   ----- \n",
      " 0   Name           899150 non-null  object\n",
      " 1   City           899134 non-null  object\n",
      " 2   State          899150 non-null  object\n",
      " 3   Zip            899164 non-null  object\n",
      " 4   Bank           897605 non-null  object\n",
      " 5   BankState      897598 non-null  object\n",
      " 6   NAICS          899164 non-null  object\n",
      " 7   ApprovalDate   899164 non-null  object\n",
      " 8   ApprovalFY     899164 non-null  object\n",
      " 9   Term           899164 non-null  int64 \n",
      " 10  NoEmp          899164 non-null  int64 \n",
      " 11  NewExist       899028 non-null  object\n",
      " 12  CreateJob      899164 non-null  int64 \n",
      " 13  RetainedJob    899164 non-null  int64 \n",
      " 14  FranchiseCode  899164 non-null  object\n",
      " 15  UrbanRural     899164 non-null  object\n",
      " 16  RevLineCr      894636 non-null  object\n",
      " 17  LowDoc         896582 non-null  object\n",
      " 18  MIS_Status     897167 non-null  object\n",
      " 19  GrAppv         899164 non-null  int64 \n",
      "dtypes: int64(5), object(15)\n",
      "memory usage: 137.2+ MB\n"
     ]
    }
   ],
   "source": [
    "data.info()"
   ]
  },
  {
   "cell_type": "code",
   "execution_count": 200,
   "metadata": {},
   "outputs": [
    {
     "data": {
      "text/html": [
       "<div>\n",
       "<style scoped>\n",
       "    .dataframe tbody tr th:only-of-type {\n",
       "        vertical-align: middle;\n",
       "    }\n",
       "\n",
       "    .dataframe tbody tr th {\n",
       "        vertical-align: top;\n",
       "    }\n",
       "\n",
       "    .dataframe thead th {\n",
       "        text-align: right;\n",
       "    }\n",
       "</style>\n",
       "<table border=\"1\" class=\"dataframe\">\n",
       "  <thead>\n",
       "    <tr style=\"text-align: right;\">\n",
       "      <th></th>\n",
       "      <th>Name</th>\n",
       "      <th>City</th>\n",
       "      <th>State</th>\n",
       "      <th>Zip</th>\n",
       "      <th>Bank</th>\n",
       "      <th>BankState</th>\n",
       "      <th>NAICS</th>\n",
       "      <th>ApprovalDate</th>\n",
       "      <th>ApprovalFY</th>\n",
       "      <th>Term</th>\n",
       "      <th>NoEmp</th>\n",
       "      <th>NewExist</th>\n",
       "      <th>CreateJob</th>\n",
       "      <th>RetainedJob</th>\n",
       "      <th>FranchiseCode</th>\n",
       "      <th>UrbanRural</th>\n",
       "      <th>RevLineCr</th>\n",
       "      <th>LowDoc</th>\n",
       "      <th>MIS_Status</th>\n",
       "      <th>GrAppv</th>\n",
       "    </tr>\n",
       "  </thead>\n",
       "  <tbody>\n",
       "    <tr>\n",
       "      <th>0</th>\n",
       "      <td>ABC HOBBYCRAFT</td>\n",
       "      <td>EVANSVILLE</td>\n",
       "      <td>IN</td>\n",
       "      <td>47711</td>\n",
       "      <td>FIFTH THIRD BANK</td>\n",
       "      <td>OH</td>\n",
       "      <td>451120</td>\n",
       "      <td>28-Feb-97</td>\n",
       "      <td>1997</td>\n",
       "      <td>84</td>\n",
       "      <td>4</td>\n",
       "      <td>2.0</td>\n",
       "      <td>0</td>\n",
       "      <td>0</td>\n",
       "      <td>1</td>\n",
       "      <td>0</td>\n",
       "      <td>N</td>\n",
       "      <td>Y</td>\n",
       "      <td>P I F</td>\n",
       "      <td>60000</td>\n",
       "    </tr>\n",
       "    <tr>\n",
       "      <th>1</th>\n",
       "      <td>LANDMARK BAR &amp; GRILLE (THE)</td>\n",
       "      <td>NEW PARIS</td>\n",
       "      <td>IN</td>\n",
       "      <td>46526</td>\n",
       "      <td>1ST SOURCE BANK</td>\n",
       "      <td>IN</td>\n",
       "      <td>722410</td>\n",
       "      <td>28-Feb-97</td>\n",
       "      <td>1997</td>\n",
       "      <td>60</td>\n",
       "      <td>2</td>\n",
       "      <td>2.0</td>\n",
       "      <td>0</td>\n",
       "      <td>0</td>\n",
       "      <td>1</td>\n",
       "      <td>0</td>\n",
       "      <td>N</td>\n",
       "      <td>Y</td>\n",
       "      <td>P I F</td>\n",
       "      <td>40000</td>\n",
       "    </tr>\n",
       "    <tr>\n",
       "      <th>2</th>\n",
       "      <td>WHITLOCK DDS, TODD M.</td>\n",
       "      <td>BLOOMINGTON</td>\n",
       "      <td>IN</td>\n",
       "      <td>47401</td>\n",
       "      <td>GRANT COUNTY STATE BANK</td>\n",
       "      <td>IN</td>\n",
       "      <td>621210</td>\n",
       "      <td>28-Feb-97</td>\n",
       "      <td>1997</td>\n",
       "      <td>180</td>\n",
       "      <td>7</td>\n",
       "      <td>1.0</td>\n",
       "      <td>0</td>\n",
       "      <td>0</td>\n",
       "      <td>1</td>\n",
       "      <td>0</td>\n",
       "      <td>N</td>\n",
       "      <td>N</td>\n",
       "      <td>P I F</td>\n",
       "      <td>287000</td>\n",
       "    </tr>\n",
       "    <tr>\n",
       "      <th>3</th>\n",
       "      <td>BIG BUCKS PAWN &amp; JEWELRY, LLC</td>\n",
       "      <td>BROKEN ARROW</td>\n",
       "      <td>OK</td>\n",
       "      <td>74012</td>\n",
       "      <td>1ST NATL BK &amp; TR CO OF BROKEN</td>\n",
       "      <td>OK</td>\n",
       "      <td>0</td>\n",
       "      <td>28-Feb-97</td>\n",
       "      <td>1997</td>\n",
       "      <td>60</td>\n",
       "      <td>2</td>\n",
       "      <td>1.0</td>\n",
       "      <td>0</td>\n",
       "      <td>0</td>\n",
       "      <td>1</td>\n",
       "      <td>0</td>\n",
       "      <td>N</td>\n",
       "      <td>Y</td>\n",
       "      <td>P I F</td>\n",
       "      <td>35000</td>\n",
       "    </tr>\n",
       "    <tr>\n",
       "      <th>4</th>\n",
       "      <td>ANASTASIA CONFECTIONS, INC.</td>\n",
       "      <td>ORLANDO</td>\n",
       "      <td>FL</td>\n",
       "      <td>32801</td>\n",
       "      <td>FLORIDA BUS. DEVEL CORP</td>\n",
       "      <td>FL</td>\n",
       "      <td>0</td>\n",
       "      <td>28-Feb-97</td>\n",
       "      <td>1997</td>\n",
       "      <td>240</td>\n",
       "      <td>14</td>\n",
       "      <td>1.0</td>\n",
       "      <td>7</td>\n",
       "      <td>7</td>\n",
       "      <td>1</td>\n",
       "      <td>0</td>\n",
       "      <td>N</td>\n",
       "      <td>N</td>\n",
       "      <td>P I F</td>\n",
       "      <td>229000</td>\n",
       "    </tr>\n",
       "  </tbody>\n",
       "</table>\n",
       "</div>"
      ],
      "text/plain": [
       "                            Name          City State    Zip  \\\n",
       "0                 ABC HOBBYCRAFT    EVANSVILLE    IN  47711   \n",
       "1    LANDMARK BAR & GRILLE (THE)     NEW PARIS    IN  46526   \n",
       "2          WHITLOCK DDS, TODD M.   BLOOMINGTON    IN  47401   \n",
       "3  BIG BUCKS PAWN & JEWELRY, LLC  BROKEN ARROW    OK  74012   \n",
       "4    ANASTASIA CONFECTIONS, INC.       ORLANDO    FL  32801   \n",
       "\n",
       "                            Bank BankState   NAICS ApprovalDate ApprovalFY  \\\n",
       "0               FIFTH THIRD BANK        OH  451120    28-Feb-97       1997   \n",
       "1                1ST SOURCE BANK        IN  722410    28-Feb-97       1997   \n",
       "2        GRANT COUNTY STATE BANK        IN  621210    28-Feb-97       1997   \n",
       "3  1ST NATL BK & TR CO OF BROKEN        OK       0    28-Feb-97       1997   \n",
       "4        FLORIDA BUS. DEVEL CORP        FL       0    28-Feb-97       1997   \n",
       "\n",
       "   Term  NoEmp NewExist  CreateJob  RetainedJob FranchiseCode UrbanRural  \\\n",
       "0    84      4      2.0          0            0             1          0   \n",
       "1    60      2      2.0          0            0             1          0   \n",
       "2   180      7      1.0          0            0             1          0   \n",
       "3    60      2      1.0          0            0             1          0   \n",
       "4   240     14      1.0          7            7             1          0   \n",
       "\n",
       "  RevLineCr LowDoc MIS_Status  GrAppv  \n",
       "0         N      Y      P I F   60000  \n",
       "1         N      Y      P I F   40000  \n",
       "2         N      N      P I F  287000  \n",
       "3         N      Y      P I F   35000  \n",
       "4         N      N      P I F  229000  "
      ]
     },
     "execution_count": 200,
     "metadata": {},
     "output_type": "execute_result"
    }
   ],
   "source": [
    "data.head()"
   ]
  },
  {
   "cell_type": "markdown",
   "metadata": {},
   "source": [
    "## Vérification valeurs manquantes"
   ]
  },
  {
   "cell_type": "code",
   "execution_count": 201,
   "metadata": {},
   "outputs": [
    {
     "data": {
      "text/plain": [
       "Name               14\n",
       "City               30\n",
       "State              14\n",
       "Zip                 0\n",
       "Bank             1559\n",
       "BankState        1566\n",
       "NAICS               0\n",
       "ApprovalDate        0\n",
       "ApprovalFY          0\n",
       "Term                0\n",
       "NoEmp               0\n",
       "NewExist          136\n",
       "CreateJob           0\n",
       "RetainedJob         0\n",
       "FranchiseCode       0\n",
       "UrbanRural          0\n",
       "RevLineCr        4528\n",
       "LowDoc           2582\n",
       "MIS_Status       1997\n",
       "GrAppv              0\n",
       "dtype: int64"
      ]
     },
     "metadata": {},
     "output_type": "display_data"
    }
   ],
   "source": [
    "display(data.isnull().sum())"
   ]
  },
  {
   "cell_type": "markdown",
   "metadata": {},
   "source": [
    "### Target : MIS_Status"
   ]
  },
  {
   "cell_type": "code",
   "execution_count": 202,
   "metadata": {},
   "outputs": [
    {
     "data": {
      "text/plain": [
       "Name               14\n",
       "City               30\n",
       "State              13\n",
       "Zip                 0\n",
       "Bank             1506\n",
       "BankState        1513\n",
       "NAICS               0\n",
       "ApprovalDate        0\n",
       "ApprovalFY          0\n",
       "Term                0\n",
       "NoEmp               0\n",
       "NewExist          134\n",
       "CreateJob           0\n",
       "RetainedJob         0\n",
       "FranchiseCode       0\n",
       "UrbanRural          0\n",
       "RevLineCr        4520\n",
       "LowDoc           2578\n",
       "MIS_Status          0\n",
       "GrAppv              0\n",
       "dtype: int64"
      ]
     },
     "execution_count": 202,
     "metadata": {},
     "output_type": "execute_result"
    }
   ],
   "source": [
    "data = data.dropna(subset=[\"MIS_Status\"])\n",
    "data.isnull().sum()"
   ]
  },
  {
   "cell_type": "markdown",
   "metadata": {},
   "source": [
    "On retire les observations pour lesquelles la target est manquante."
   ]
  },
  {
   "cell_type": "markdown",
   "metadata": {},
   "source": [
    "### Features"
   ]
  },
  {
   "cell_type": "code",
   "execution_count": 203,
   "metadata": {},
   "outputs": [
    {
     "name": "stdout",
     "output_type": "stream",
     "text": [
      "Valeurs manquantes sur le subset Name\n"
     ]
    },
    {
     "data": {
      "text/plain": [
       "Name             14\n",
       "City              0\n",
       "State             0\n",
       "Zip               0\n",
       "Bank              0\n",
       "BankState         0\n",
       "NAICS             0\n",
       "ApprovalDate      0\n",
       "ApprovalFY        0\n",
       "Term              0\n",
       "NoEmp             0\n",
       "NewExist          0\n",
       "CreateJob         0\n",
       "RetainedJob       0\n",
       "FranchiseCode     0\n",
       "UrbanRural        0\n",
       "RevLineCr         0\n",
       "LowDoc            0\n",
       "MIS_Status        0\n",
       "GrAppv            0\n",
       "dtype: int64"
      ]
     },
     "metadata": {},
     "output_type": "display_data"
    },
    {
     "name": "stdout",
     "output_type": "stream",
     "text": [
      "Valeurs manquantes sur le subset City\n"
     ]
    },
    {
     "data": {
      "text/plain": [
       "Name              0\n",
       "City             30\n",
       "State             0\n",
       "Zip               0\n",
       "Bank              2\n",
       "BankState         2\n",
       "NAICS             0\n",
       "ApprovalDate      0\n",
       "ApprovalFY        0\n",
       "Term              0\n",
       "NoEmp             0\n",
       "NewExist          0\n",
       "CreateJob         0\n",
       "RetainedJob       0\n",
       "FranchiseCode     0\n",
       "UrbanRural        0\n",
       "RevLineCr         0\n",
       "LowDoc            0\n",
       "MIS_Status        0\n",
       "GrAppv            0\n",
       "dtype: int64"
      ]
     },
     "metadata": {},
     "output_type": "display_data"
    },
    {
     "name": "stdout",
     "output_type": "stream",
     "text": [
      "Valeurs manquantes sur le subset State\n"
     ]
    },
    {
     "data": {
      "text/plain": [
       "Name              0\n",
       "City              0\n",
       "State            13\n",
       "Zip               0\n",
       "Bank              0\n",
       "BankState         0\n",
       "NAICS             0\n",
       "ApprovalDate      0\n",
       "ApprovalFY        0\n",
       "Term              0\n",
       "NoEmp             0\n",
       "NewExist          0\n",
       "CreateJob         0\n",
       "RetainedJob       0\n",
       "FranchiseCode     0\n",
       "UrbanRural        0\n",
       "RevLineCr         0\n",
       "LowDoc            0\n",
       "MIS_Status        0\n",
       "GrAppv            0\n",
       "dtype: int64"
      ]
     },
     "metadata": {},
     "output_type": "display_data"
    },
    {
     "name": "stdout",
     "output_type": "stream",
     "text": [
      "Valeurs manquantes sur le subset Bank\n"
     ]
    },
    {
     "data": {
      "text/plain": [
       "Name                0\n",
       "City                2\n",
       "State               0\n",
       "Zip                 0\n",
       "Bank             1506\n",
       "BankState        1506\n",
       "NAICS               0\n",
       "ApprovalDate        0\n",
       "ApprovalFY          0\n",
       "Term                0\n",
       "NoEmp               0\n",
       "NewExist            0\n",
       "CreateJob           0\n",
       "RetainedJob         0\n",
       "FranchiseCode       0\n",
       "UrbanRural          0\n",
       "RevLineCr           9\n",
       "LowDoc              0\n",
       "MIS_Status          0\n",
       "GrAppv              0\n",
       "dtype: int64"
      ]
     },
     "metadata": {},
     "output_type": "display_data"
    },
    {
     "name": "stdout",
     "output_type": "stream",
     "text": [
      "Valeurs manquantes sur le subset BankState\n"
     ]
    },
    {
     "data": {
      "text/plain": [
       "Name                0\n",
       "City                2\n",
       "State               0\n",
       "Zip                 0\n",
       "Bank             1506\n",
       "BankState        1513\n",
       "NAICS               0\n",
       "ApprovalDate        0\n",
       "ApprovalFY          0\n",
       "Term                0\n",
       "NoEmp               0\n",
       "NewExist            0\n",
       "CreateJob           0\n",
       "RetainedJob         0\n",
       "FranchiseCode       0\n",
       "UrbanRural          0\n",
       "RevLineCr           9\n",
       "LowDoc              0\n",
       "MIS_Status          0\n",
       "GrAppv              0\n",
       "dtype: int64"
      ]
     },
     "metadata": {},
     "output_type": "display_data"
    },
    {
     "name": "stdout",
     "output_type": "stream",
     "text": [
      "Valeurs manquantes sur le subset NewExist\n"
     ]
    },
    {
     "data": {
      "text/plain": [
       "Name               0\n",
       "City               0\n",
       "State              0\n",
       "Zip                0\n",
       "Bank               0\n",
       "BankState          0\n",
       "NAICS              0\n",
       "ApprovalDate       0\n",
       "ApprovalFY         0\n",
       "Term               0\n",
       "NoEmp              0\n",
       "NewExist         134\n",
       "CreateJob          0\n",
       "RetainedJob        0\n",
       "FranchiseCode      0\n",
       "UrbanRural         0\n",
       "RevLineCr          0\n",
       "LowDoc             3\n",
       "MIS_Status         0\n",
       "GrAppv             0\n",
       "dtype: int64"
      ]
     },
     "metadata": {},
     "output_type": "display_data"
    },
    {
     "name": "stdout",
     "output_type": "stream",
     "text": [
      "Valeurs manquantes sur le subset RevLineCr\n"
     ]
    },
    {
     "data": {
      "text/plain": [
       "Name                0\n",
       "City                0\n",
       "State               0\n",
       "Zip                 0\n",
       "Bank                9\n",
       "BankState           9\n",
       "NAICS               0\n",
       "ApprovalDate        0\n",
       "ApprovalFY          0\n",
       "Term                0\n",
       "NoEmp               0\n",
       "NewExist            0\n",
       "CreateJob           0\n",
       "RetainedJob         0\n",
       "FranchiseCode       0\n",
       "UrbanRural          0\n",
       "RevLineCr        4520\n",
       "LowDoc              0\n",
       "MIS_Status          0\n",
       "GrAppv              0\n",
       "dtype: int64"
      ]
     },
     "metadata": {},
     "output_type": "display_data"
    },
    {
     "name": "stdout",
     "output_type": "stream",
     "text": [
      "Valeurs manquantes sur le subset LowDoc\n"
     ]
    },
    {
     "data": {
      "text/plain": [
       "Name                0\n",
       "City                0\n",
       "State               0\n",
       "Zip                 0\n",
       "Bank                0\n",
       "BankState           0\n",
       "NAICS               0\n",
       "ApprovalDate        0\n",
       "ApprovalFY          0\n",
       "Term                0\n",
       "NoEmp               0\n",
       "NewExist            3\n",
       "CreateJob           0\n",
       "RetainedJob         0\n",
       "FranchiseCode       0\n",
       "UrbanRural          0\n",
       "RevLineCr           0\n",
       "LowDoc           2578\n",
       "MIS_Status          0\n",
       "GrAppv              0\n",
       "dtype: int64"
      ]
     },
     "metadata": {},
     "output_type": "display_data"
    }
   ],
   "source": [
    "missing_values = data.isnull().sum()\n",
    "col_missing_values = missing_values[missing_values > 0].index.tolist()\n",
    "\n",
    "for feature in col_missing_values:\n",
    "    print(f\"Valeurs manquantes sur le subset {feature}\")\n",
    "    display(data[data[feature].isnull()].isnull().sum())"
   ]
  },
  {
   "cell_type": "markdown",
   "metadata": {},
   "source": [
    "## Nettoyage par colonnes"
   ]
  },
  {
   "cell_type": "markdown",
   "metadata": {},
   "source": [
    "### ApprovalFY"
   ]
  },
  {
   "cell_type": "code",
   "execution_count": 204,
   "metadata": {},
   "outputs": [],
   "source": [
    "data[\"ApprovalFY\"] = data[\"ApprovalFY\"].str.replace(\"[^\\d.]\", \"\", regex=True)"
   ]
  },
  {
   "cell_type": "markdown",
   "metadata": {},
   "source": [
    "### Autres"
   ]
  },
  {
   "cell_type": "markdown",
   "metadata": {},
   "source": [
    "## Exportation du dataset nettoyé"
   ]
  },
  {
   "cell_type": "code",
   "execution_count": 205,
   "metadata": {},
   "outputs": [],
   "source": [
    "data.to_csv(\"datasets/SBAnational-cleaned.csv\", index=None)"
   ]
  }
 ],
 "metadata": {
  "kernelspec": {
   "display_name": ".venv",
   "language": "python",
   "name": "python3"
  },
  "language_info": {
   "codemirror_mode": {
    "name": "ipython",
    "version": 3
   },
   "file_extension": ".py",
   "mimetype": "text/x-python",
   "name": "python",
   "nbconvert_exporter": "python",
   "pygments_lexer": "ipython3",
   "version": "3.10.12"
  }
 },
 "nbformat": 4,
 "nbformat_minor": 2
}
