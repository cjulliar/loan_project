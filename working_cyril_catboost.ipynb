{
 "cells": [
  {
   "cell_type": "code",
   "execution_count": 26,
   "metadata": {},
   "outputs": [],
   "source": [
    "import pandas as pd\n",
    "import numpy as np\n",
    "from sklearn.compose import ColumnTransformer\n",
    "from sklearn.preprocessing import OneHotEncoder, OrdinalEncoder, StandardScaler, PolynomialFeatures\n",
    "from sklearn.pipeline import Pipeline\n",
    "from sklearn.model_selection import train_test_split, GridSearchCV\n",
    "from sklearn.metrics import accuracy_score, classification_report\n",
    "import pickle \n",
    "\n",
    "from catboost import CatBoostClassifier\n"
   ]
  },
  {
   "cell_type": "code",
   "execution_count": 27,
   "metadata": {},
   "outputs": [],
   "source": [
    "with open(\"datasets/dataset_withoutBadValues.pkl\", \"rb\") as file:\n",
    "    df = pickle.load(file)\n",
    "file.close()\n",
    "df = df.dropna()\n"
   ]
  },
  {
   "cell_type": "code",
   "execution_count": 28,
   "metadata": {},
   "outputs": [
    {
     "name": "stdout",
     "output_type": "stream",
     "text": [
      "              precision    recall  f1-score   support\n",
      "\n",
      "           0     0.8996    0.8775    0.8884      7037\n",
      "           1     0.9691    0.9751    0.9721     27700\n",
      "\n",
      "    accuracy                         0.9554     34737\n",
      "   macro avg     0.9343    0.9263    0.9303     34737\n",
      "weighted avg     0.9550    0.9554    0.9551     34737\n",
      "\n"
     ]
    }
   ],
   "source": [
    "# Définir X et y\n",
    "X = df.drop(['MIS_Status', 'Name', 'ApprovalDate'], axis=1)\n",
    "y = df[\"MIS_Status\"]\n",
    "\n",
    "\n",
    "object_cols = list(X.select_dtypes(include=[\"object\"]).columns)\n",
    "cat_cols = list(X.select_dtypes(include=[\"category\"]).columns.drop([\"ApprovalFY\"]))\n",
    "num_cols = list(X.select_dtypes(include=[\"int64\"]).columns)\n",
    "year_col = [\"ApprovalFY\"]\n",
    "\n",
    "for col in object_cols:\n",
    "    frequency_encoding = X[col].value_counts(normalize=True)\n",
    "    X[col] = X[col].map(frequency_encoding)\n",
    "\n",
    "\n",
    "unique_years = sorted(df[\"ApprovalFY\"].unique())\n",
    "preprocessor = ColumnTransformer([\n",
    "        (\"onehot\", OneHotEncoder(drop=\"if_binary\", sparse_output=False, handle_unknown=\"ignore\"), cat_cols),\n",
    "        (\"scaler\", StandardScaler(), num_cols),\n",
    "        (\"ordinal\", OrdinalEncoder(categories=[unique_years], handle_unknown=\"use_encoded_value\", unknown_value=-1), year_col),\n",
    "    ],\n",
    "    remainder=\"passthrough\",\n",
    "    verbose_feature_names_out=False\n",
    ")\n",
    "\n",
    "\n",
    "# Création du pipeline avec le preprocessor et le modèle XGBoost\n",
    "pipeline_cb = Pipeline([\n",
    "    (\"preprocessor\", preprocessor),\n",
    "    (\"model\", CatBoostClassifier(one_hot_max_size = 10, verbose = 0))\n",
    "])\n",
    "\n",
    "\n",
    "X_train, X_test, y_train, y_test = train_test_split(X, y, shuffle=True, test_size=0.05, random_state=42, stratify=y)\n",
    "\n",
    "# Utiliser GridSearchCV pour trouver les meilleurs hyperparamètres\n",
    "pipeline_cb.fit(X_train, y_train)\n",
    "\n",
    "# Prédictions sur le jeu de données de test avec le modèle CatBoost optimal\n",
    "y_pred_cb = pipeline_cb.predict(X_test)\n",
    "\n",
    "# Afficher le rapport de classification\n",
    "print(classification_report(y_test, y_pred_cb, digits=4))"
   ]
  },
  {
   "cell_type": "code",
   "execution_count": 29,
   "metadata": {},
   "outputs": [],
   "source": [
    "from sklearn.preprocessing import LabelEncoder\n",
    "from sklearn.metrics import confusion_matrix, precision_recall_curve\n",
    "import matplotlib.pyplot as plt\n",
    "from sklearn.model_selection import train_test_split, cross_val_predict\n",
    "\n",
    "y_probas_rf = cross_val_predict(pipeline_cb, X_test, y_test, method=\"predict_proba\")\n",
    "y_scores_rf = y_probas_rf[:, 1]\n",
    "\n",
    "precisions_rf, recalls_rf, thresholds_rf = precision_recall_curve(y_test, y_scores_rf)\n",
    "\n",
    "plt.plot(recalls_rf[:-1], precisions_rf[:-1])\n",
    "plt.title(\"Evolution de la precision en fonction du recall pour le modèle Random Forest\")\n",
    "plt.xlabel(\"Recall\")\n",
    "plt.ylabel(\"Precision\")\n",
    "plt.grid()\n",
    "plt.show()\n",
    "\n",
    "# print(thresholds_rf)"
   ]
  },
  {
   "cell_type": "code",
   "execution_count": null,
   "metadata": {},
   "outputs": [
    {
     "name": "stdout",
     "output_type": "stream",
     "text": [
      "              precision    recall  f1-score   support\n",
      "\n",
      "           0       0.90      0.88      0.89      7037\n",
      "           1       0.97      0.98      0.97     27700\n",
      "\n",
      "    accuracy                           0.96     34737\n",
      "   macro avg       0.93      0.93      0.93     34737\n",
      "weighted avg       0.96      0.96      0.96     34737\n",
      "\n"
     ]
    }
   ],
   "source": [
    "print(classification_report(y_test, y_pred_cb))"
   ]
  },
  {
   "cell_type": "code",
   "execution_count": null,
   "metadata": {},
   "outputs": [],
   "source": [
    "# from sklearn.model_selection import learning_curve\n",
    "\n",
    "# train_sizes, train_scores, validation_scores = learning_curve(\n",
    "#     estimator = pipeline_cb,\n",
    "#     X = X_train,\n",
    "#     y = y_train,\n",
    "#     train_sizes = np.linspace(0.1, 1.0, 10),\n",
    "#     cv = 5,\n",
    "#     scoring = 'f1_macro'\n",
    "# )\n",
    "\n",
    "# #recuperation des moyennes et des écarts types(facultatif) à chaque cv\n",
    "# train_scores_mean = train_scores.mean(axis = 1)\n",
    "# train_scores_std = train_scores.std(axis = 1)\n",
    "# validation_scores_mean = validation_scores.mean(axis = 1)\n",
    "# validation_scores_std = validation_scores.std(axis = 1)\n",
    "\n",
    "\n",
    "# plt.figure()\n",
    "# plt.title(\"Learning Curve (Random Forest)\")\n",
    "# plt.xlabel(\"Training examples\")\n",
    "# plt.ylabel(\"f1_macro\")\n",
    "# # plt.gca().invert_yaxis() # -> inverser le y si la métrique est une perte\n",
    "\n",
    "# # afficher les points\n",
    "# plt.plot(train_sizes, train_scores_mean, 'o-', color=\"r\", label=\"Training score\")\n",
    "# plt.plot(train_sizes, validation_scores_mean, 'o-', color=\"g\", label=\"Cross-validation score\")\n",
    "\n",
    "# # relier les points\n",
    "# plt.fill_between(train_sizes, train_scores_mean - train_scores_std, train_scores_mean + train_scores_std, alpha=0.1, color=\"r\")\n",
    "# plt.fill_between(train_sizes, validation_scores_mean - validation_scores_std, validation_scores_mean + validation_scores_std, alpha=0.1, color=\"g\")\n",
    "\n",
    "\n",
    "# plt.legend()\n",
    "# plt.show()"
   ]
  }
 ],
 "metadata": {
  "kernelspec": {
   "display_name": "Python 3",
   "language": "python",
   "name": "python3"
  },
  "language_info": {
   "codemirror_mode": {
    "name": "ipython",
    "version": 3
   },
   "file_extension": ".py",
   "mimetype": "text/x-python",
   "name": "python",
   "nbconvert_exporter": "python",
   "pygments_lexer": "ipython3",
   "version": "3.10.13"
  }
 },
 "nbformat": 4,
 "nbformat_minor": 2
}
