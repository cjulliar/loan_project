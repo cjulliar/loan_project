{
 "cells": [
  {
   "cell_type": "markdown",
   "metadata": {},
   "source": [
    "# Modelisation"
   ]
  },
  {
   "cell_type": "markdown",
   "metadata": {},
   "source": [
    "## Importation des librairies et dataset"
   ]
  },
  {
   "cell_type": "code",
   "execution_count": 13,
   "metadata": {},
   "outputs": [],
   "source": [
    "import pandas as pd\n",
    "import numpy as np\n",
    "import pickle\n",
    "\n",
    "from sklearn.base import BaseEstimator, TransformerMixin\n",
    "from sklearn.compose import ColumnTransformer\n",
    "from sklearn.ensemble import RandomForestClassifier\n",
    "from sklearn.metrics import classification_report\n",
    "from sklearn.model_selection import train_test_split\n",
    "from sklearn.pipeline import make_pipeline, Pipeline\n",
    "from sklearn.preprocessing import OneHotEncoder, OrdinalEncoder, StandardScaler"
   ]
  },
  {
   "cell_type": "code",
   "execution_count": 14,
   "metadata": {},
   "outputs": [],
   "source": [
    "with open(\"datasets/dataset_withoutBadValues.pkl\", \"rb\") as file:\n",
    "    data = pickle.load(file)\n",
    "file.close()"
   ]
  },
  {
   "cell_type": "code",
   "execution_count": 15,
   "metadata": {},
   "outputs": [
    {
     "name": "stdout",
     "output_type": "stream",
     "text": [
      "<class 'pandas.core.frame.DataFrame'>\n",
      "Index: 693993 entries, 0 to 899161\n",
      "Data columns (total 25 columns):\n",
      " #   Column         Non-Null Count   Dtype         \n",
      "---  ------         --------------   -----         \n",
      " 0   Name           693993 non-null  object        \n",
      " 1   City           693993 non-null  object        \n",
      " 2   State          693993 non-null  category      \n",
      " 3   Zip            693993 non-null  object        \n",
      " 4   Bank           693993 non-null  object        \n",
      " 5   BankState      693993 non-null  category      \n",
      " 6   NAICS          693993 non-null  object        \n",
      " 7   ApprovalDate   693993 non-null  datetime64[ns]\n",
      " 8   ApprovalFY     693993 non-null  category      \n",
      " 9   Term           693993 non-null  int64         \n",
      " 10  NoEmp          693993 non-null  int64         \n",
      " 11  NewExist       693993 non-null  category      \n",
      " 12  CreateJob      693993 non-null  int64         \n",
      " 13  RetainedJob    693993 non-null  int64         \n",
      " 14  FranchiseCode  693993 non-null  object        \n",
      " 15  UrbanRural     693993 non-null  category      \n",
      " 16  RevLineCr      693993 non-null  category      \n",
      " 17  LowDoc         693993 non-null  category      \n",
      " 18  MIS_Status     693993 non-null  int64         \n",
      " 19  GrAppv         693993 non-null  int64         \n",
      " 20  SBA_Appv       693993 non-null  int64         \n",
      " 21  Zip_2          693993 non-null  category      \n",
      " 22  NAICS_2        693993 non-null  category      \n",
      " 23  Franchised     693993 non-null  category      \n",
      " 24  RealEstate     693993 non-null  category      \n",
      "dtypes: category(11), datetime64[ns](1), int64(7), object(6)\n",
      "memory usage: 86.7+ MB\n"
     ]
    }
   ],
   "source": [
    "data.info()"
   ]
  },
  {
   "cell_type": "markdown",
   "metadata": {},
   "source": [
    "## Création des sets"
   ]
  },
  {
   "cell_type": "code",
   "execution_count": 16,
   "metadata": {},
   "outputs": [],
   "source": [
    "data = data.dropna()\n",
    "data = data.drop(\"ApprovalDate\", axis=1)"
   ]
  },
  {
   "cell_type": "code",
   "execution_count": 17,
   "metadata": {},
   "outputs": [],
   "source": [
    "X = data.drop(\"MIS_Status\", axis=1)\n",
    "y = data.MIS_Status"
   ]
  },
  {
   "cell_type": "code",
   "execution_count": 18,
   "metadata": {},
   "outputs": [],
   "source": [
    "# Récupère le nom des colonnes par types\n",
    "object_cols = list(X.select_dtypes(include=[\"object\"]).columns)\n",
    "cat_cols = list(X.select_dtypes(include=[\"category\"]).columns.drop([\"ApprovalFY\"]))\n",
    "num_cols = list(X.select_dtypes(include=[\"int64\"]).columns)\n",
    "year_col = [\"ApprovalFY\"]\n",
    "\n",
    "# Ordinal encoding for ApprovalFY\n",
    "unique_years = sorted(data[\"ApprovalFY\"].unique())\n",
    "\n",
    "# Frequency encoding for object columns\n",
    "for col in object_cols:\n",
    "    frequency_encoding = X[col].value_counts(normalize=True)\n",
    "    X[col] = X[col].map(frequency_encoding)"
   ]
  },
  {
   "cell_type": "code",
   "execution_count": 19,
   "metadata": {},
   "outputs": [],
   "source": [
    "X_train, X_test, y_train, y_test = train_test_split(X, y, shuffle=True, test_size=0.05, stratify=y, random_state=42)"
   ]
  },
  {
   "cell_type": "markdown",
   "metadata": {},
   "source": [
    "## Preprocessing"
   ]
  },
  {
   "cell_type": "code",
   "execution_count": 20,
   "metadata": {},
   "outputs": [],
   "source": [
    "# class FrequencyTransformer(BaseEstimator, TransformerMixin):\n",
    "#     def __init__(self, columns):\n",
    "#         self.columns = columns\n",
    "#         self.frequency_encodings = {}\n",
    "\n",
    "#     def fit(self, X, y=None):\n",
    "#         for col in self.columns:\n",
    "#             frequency_encoding = X[col].value_counts(normalize=True)\n",
    "#             self.frequency_encodings[col] = frequency_encoding\n",
    "#         return self\n",
    "\n",
    "#     def transform(self, X):\n",
    "#         X_copy = X.copy()\n",
    "#         for col in self.columns:\n",
    "#             frequency_encoding = self.frequency_encodings[col]\n",
    "#             X_copy[col] = X_copy[col].map(frequency_encoding)\n",
    "#         return X_copy\n",
    "    \n",
    "#     def get_feature_names_out(self, input_features=None):\n",
    "#         return [self.column]"
   ]
  },
  {
   "cell_type": "code",
   "execution_count": 21,
   "metadata": {},
   "outputs": [],
   "source": [
    "preprocessing = ColumnTransformer([\n",
    "        (\"onehot\", OneHotEncoder(drop=\"if_binary\", sparse_output=False, handle_unknown=\"ignore\"), cat_cols),\n",
    "        (\"scaler\", StandardScaler(), num_cols),\n",
    "        (\"ordinal\", OrdinalEncoder(categories=[unique_years], handle_unknown=\"use_encoded_value\", unknown_value=-1), year_col),\n",
    "        # (\"frequency\", FrequencyTransformer(columns=cat_cols), cat_cols)\n",
    "    ],\n",
    "    remainder=\"passthrough\",\n",
    "    verbose_feature_names_out=False,\n",
    ")"
   ]
  },
  {
   "cell_type": "markdown",
   "metadata": {},
   "source": [
    "## Pipeline"
   ]
  },
  {
   "cell_type": "code",
   "execution_count": 22,
   "metadata": {},
   "outputs": [],
   "source": [
    "rf = RandomForestClassifier(n_estimators=100, max_depth=10, random_state=42)\n",
    "\n",
    "pipeline_rf = make_pipeline(preprocessing, rf)\n",
    "\n",
    "pipeline_rf.fit(X_train, y_train)"
   ]
  },
  {
   "cell_type": "code",
   "execution_count": 23,
   "metadata": {},
   "outputs": [
    {
     "name": "stdout",
     "output_type": "stream",
     "text": [
      "              precision    recall  f1-score   support\n",
      "\n",
      "           0       0.93      0.34      0.50      7035\n",
      "           1       0.86      0.99      0.92     27665\n",
      "\n",
      "    accuracy                           0.86     34700\n",
      "   macro avg       0.89      0.67      0.71     34700\n",
      "weighted avg       0.87      0.86      0.83     34700\n",
      "\n"
     ]
    }
   ],
   "source": [
    "pred_test_rf = pipeline_rf.predict(X_test)\n",
    "\n",
    "print(classification_report(y_test, pred_test_rf))"
   ]
  },
  {
   "cell_type": "markdown",
   "metadata": {},
   "source": [
    "## Feature importance"
   ]
  },
  {
   "cell_type": "code",
   "execution_count": 27,
   "metadata": {},
   "outputs": [
    {
     "name": "stdout",
     "output_type": "stream",
     "text": [
      "[('columntransformer', ColumnTransformer(remainder='passthrough',\n",
      "                  transformers=[('onehot',\n",
      "                                 OneHotEncoder(drop='if_binary',\n",
      "                                               handle_unknown='ignore',\n",
      "                                               sparse_output=False),\n",
      "                                 ['State', 'BankState', 'NewExist',\n",
      "                                  'UrbanRural', 'RevLineCr', 'LowDoc', 'Zip_2',\n",
      "                                  'NAICS_2', 'Franchised', 'RealEstate']),\n",
      "                                ('scaler', StandardScaler(),\n",
      "                                 ['Term', 'NoEmp', 'CreateJob', 'RetainedJob',\n",
      "                                  'GrAppv', 'SBA_Appv']),\n",
      "                                ('ordinal',\n",
      "                                 OrdinalEncoder(categories=[['1984', '1987',\n",
      "                                                             '1988', '1989',\n",
      "                                                             '1990', '1991',\n",
      "                                                             '1992', '1993',\n",
      "                                                             '1994', '1995',\n",
      "                                                             '1996', '1997',\n",
      "                                                             '1998', '1999',\n",
      "                                                             '2000', '2001',\n",
      "                                                             '2002', '2003',\n",
      "                                                             '2004', '2005',\n",
      "                                                             '2006', '2007',\n",
      "                                                             '2008', '2009',\n",
      "                                                             '2010', '2011',\n",
      "                                                             '2012', '2013',\n",
      "                                                             '2014']],\n",
      "                                                handle_unknown='use_encoded_value',\n",
      "                                                unknown_value=-1),\n",
      "                                 ['ApprovalFY'])],\n",
      "                  verbose_feature_names_out=False)), ('randomforestclassifier', RandomForestClassifier(max_depth=10, random_state=42))]\n"
     ]
    }
   ],
   "source": [
    "print(pipeline_rf.steps)"
   ]
  },
  {
   "cell_type": "code",
   "execution_count": 32,
   "metadata": {},
   "outputs": [
    {
     "data": {
      "text/html": [
       "<div>\n",
       "<style scoped>\n",
       "    .dataframe tbody tr th:only-of-type {\n",
       "        vertical-align: middle;\n",
       "    }\n",
       "\n",
       "    .dataframe tbody tr th {\n",
       "        vertical-align: top;\n",
       "    }\n",
       "\n",
       "    .dataframe thead th {\n",
       "        text-align: right;\n",
       "    }\n",
       "</style>\n",
       "<table border=\"1\" class=\"dataframe\">\n",
       "  <thead>\n",
       "    <tr style=\"text-align: right;\">\n",
       "      <th></th>\n",
       "      <th>features</th>\n",
       "      <th>score</th>\n",
       "    </tr>\n",
       "  </thead>\n",
       "  <tbody>\n",
       "    <tr>\n",
       "      <th>242</th>\n",
       "      <td>Term</td>\n",
       "      <td>0.434602</td>\n",
       "    </tr>\n",
       "    <tr>\n",
       "      <th>248</th>\n",
       "      <td>ApprovalFY</td>\n",
       "      <td>0.084809</td>\n",
       "    </tr>\n",
       "    <tr>\n",
       "      <th>252</th>\n",
       "      <td>Bank</td>\n",
       "      <td>0.071120</td>\n",
       "    </tr>\n",
       "    <tr>\n",
       "      <th>247</th>\n",
       "      <td>SBA_Appv</td>\n",
       "      <td>0.055390</td>\n",
       "    </tr>\n",
       "    <tr>\n",
       "      <th>241</th>\n",
       "      <td>RealEstate_1</td>\n",
       "      <td>0.043342</td>\n",
       "    </tr>\n",
       "    <tr>\n",
       "      <th>254</th>\n",
       "      <td>FranchiseCode</td>\n",
       "      <td>0.042517</td>\n",
       "    </tr>\n",
       "    <tr>\n",
       "      <th>245</th>\n",
       "      <td>RetainedJob</td>\n",
       "      <td>0.039632</td>\n",
       "    </tr>\n",
       "    <tr>\n",
       "      <th>246</th>\n",
       "      <td>GrAppv</td>\n",
       "      <td>0.036341</td>\n",
       "    </tr>\n",
       "    <tr>\n",
       "      <th>107</th>\n",
       "      <td>UrbanRural_0</td>\n",
       "      <td>0.027174</td>\n",
       "    </tr>\n",
       "    <tr>\n",
       "      <th>108</th>\n",
       "      <td>UrbanRural_1</td>\n",
       "      <td>0.015956</td>\n",
       "    </tr>\n",
       "    <tr>\n",
       "      <th>56</th>\n",
       "      <td>BankState_CA</td>\n",
       "      <td>0.013525</td>\n",
       "    </tr>\n",
       "    <tr>\n",
       "      <th>112</th>\n",
       "      <td>RevLineCr_Y</td>\n",
       "      <td>0.009495</td>\n",
       "    </tr>\n",
       "    <tr>\n",
       "      <th>80</th>\n",
       "      <td>BankState_NC</td>\n",
       "      <td>0.009154</td>\n",
       "    </tr>\n",
       "    <tr>\n",
       "      <th>111</th>\n",
       "      <td>RevLineCr_N</td>\n",
       "      <td>0.008402</td>\n",
       "    </tr>\n",
       "    <tr>\n",
       "      <th>99</th>\n",
       "      <td>BankState_VA</td>\n",
       "      <td>0.008207</td>\n",
       "    </tr>\n",
       "    <tr>\n",
       "      <th>243</th>\n",
       "      <td>NoEmp</td>\n",
       "      <td>0.007601</td>\n",
       "    </tr>\n",
       "    <tr>\n",
       "      <th>244</th>\n",
       "      <td>CreateJob</td>\n",
       "      <td>0.006266</td>\n",
       "    </tr>\n",
       "    <tr>\n",
       "      <th>110</th>\n",
       "      <td>RevLineCr_0</td>\n",
       "      <td>0.005551</td>\n",
       "    </tr>\n",
       "    <tr>\n",
       "      <th>235</th>\n",
       "      <td>NAICS_2_62</td>\n",
       "      <td>0.004564</td>\n",
       "    </tr>\n",
       "    <tr>\n",
       "      <th>4</th>\n",
       "      <td>State_CA</td>\n",
       "      <td>0.004253</td>\n",
       "    </tr>\n",
       "  </tbody>\n",
       "</table>\n",
       "</div>"
      ],
      "text/plain": [
       "          features     score\n",
       "242           Term  0.434602\n",
       "248     ApprovalFY  0.084809\n",
       "252           Bank  0.071120\n",
       "247       SBA_Appv  0.055390\n",
       "241   RealEstate_1  0.043342\n",
       "254  FranchiseCode  0.042517\n",
       "245    RetainedJob  0.039632\n",
       "246         GrAppv  0.036341\n",
       "107   UrbanRural_0  0.027174\n",
       "108   UrbanRural_1  0.015956\n",
       "56    BankState_CA  0.013525\n",
       "112    RevLineCr_Y  0.009495\n",
       "80    BankState_NC  0.009154\n",
       "111    RevLineCr_N  0.008402\n",
       "99    BankState_VA  0.008207\n",
       "243          NoEmp  0.007601\n",
       "244      CreateJob  0.006266\n",
       "110    RevLineCr_0  0.005551\n",
       "235     NAICS_2_62  0.004564\n",
       "4         State_CA  0.004253"
      ]
     },
     "metadata": {},
     "output_type": "display_data"
    }
   ],
   "source": [
    "preprocessed_features = pipeline_rf.named_steps['columntransformer'].get_feature_names_out()\n",
    "rf_model = pipeline_rf.named_steps['randomforestclassifier']\n",
    "\n",
    "f = pd.DataFrame({'features': preprocessed_features, 'score': rf_model.feature_importances_})\n",
    "f.sort_values(by=['score'], ascending=False, inplace=True)\n",
    "display(f.head(20))"
   ]
  }
 ],
 "metadata": {
  "kernelspec": {
   "display_name": ".venv",
   "language": "python",
   "name": "python3"
  },
  "language_info": {
   "codemirror_mode": {
    "name": "ipython",
    "version": 3
   },
   "file_extension": ".py",
   "mimetype": "text/x-python",
   "name": "python",
   "nbconvert_exporter": "python",
   "pygments_lexer": "ipython3",
   "version": "3.10.12"
  }
 },
 "nbformat": 4,
 "nbformat_minor": 2
}
